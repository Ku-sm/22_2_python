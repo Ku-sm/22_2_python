{
 "cells": [
  {
   "cell_type": "code",
   "execution_count": 6,
   "id": "6902fae7",
   "metadata": {},
   "outputs": [
    {
     "name": "stdout",
     "output_type": "stream",
     "text": [
      "30\n",
      "0\n"
     ]
    }
   ],
   "source": [
    "#그냥 클래스 연습 무시 해도 됨\n",
    "class Bicycle:\n",
    "    \n",
    "    def __init__(self, gear=1, speed=0):\n",
    "        self.gear = gear\n",
    "        self.speed =speed\n",
    "        \n",
    "    def speed_accel(self,speed):\n",
    "        self.speed += speed\n",
    "        if(self.speed < 0):\n",
    "            self.bicycle_break()\n",
    "    \n",
    "    def bicycle_break(self):\n",
    "        self.speed = 0\n",
    "    \n",
    "b1 = Bicycle()\n",
    "b1.speed_accel(30)\n",
    "print(b1.speed)\n",
    "b1.speed_accel(-40)\n",
    "print(b1.speed)"
   ]
  },
  {
   "cell_type": "code",
   "execution_count": 57,
   "id": "43e12521",
   "metadata": {},
   "outputs": [],
   "source": [
    "#데이터 분리를 위해서 math.floor 함수를 위한 import\n",
    "import math\n",
    "\n",
    "#아래꺼는 그냥 그림 그리기 위해서 필요한 라이브러리 없어도 됨\n",
    "from matplotlib import pyplot as plt\n",
    "import numpy as np"
   ]
  },
  {
   "cell_type": "code",
   "execution_count": 52,
   "id": "5a6bf954",
   "metadata": {},
   "outputs": [],
   "source": [
    "# 파일 열고 라인별로 읽어들이기 r = 읽기 모드\n",
    "f = open('simple.txt','r') #파일 위치는 개인마다 다르므로 조정 필요!!!\n",
    "data = f.readlines()\n",
    "f.close() #파일 닫기\n",
    "\n",
    "# 데이터 처리한 후 저장할 리스트\n",
    "process = []\n",
    "\n",
    "# 맨 처음의 X,Y 무시/ 제거작업\n",
    "data = data[1:]\n",
    "\n",
    "# readllines로 분리한 문자열 데이터 -> 실수형으로 변환 과정\n",
    "for i in range(len(data)):\n",
    "    \n",
    "    # 라인의 데이터 23.4  \"'43,32'\" 를 공백으로 분리\n",
    "    data[i] = data[i].split()\n",
    "    \n",
    "    # 2번째 라인의 불필요한 \"\"을 제거 및 쉼표를 마침표로 변환\n",
    "    # strip 함수 매개변수 없으면 양 옆 공백 제거\n",
    "    data[i][1] = data[i][1].strip().strip('\"\"').replace(',','.')\n",
    "    \n",
    "    #문자열을 수로 변환\n",
    "    data[i][0],data[i][1] = float(data[i][0]),float(data[i][1])\n",
    "    \n",
    "    #처리된 데이터 리스트에 저장\n",
    "    process.append([data[i][0],data[i][1]])\n",
    "    \n",
    "# 훈련:테스트 = 0.7: 0.3 (비율)\n",
    "percent = math.floor(len(process)*0.7)\n",
    "# 0~0.7까지 슬라이싱\n",
    "tr_data = process[:percent]\n",
    "#0.7부터 끝까지 슬라이싱\n",
    "ts_data = process[percent:]\n"
   ]
  },
  {
   "cell_type": "code",
   "execution_count": 23,
   "id": "a4f33b71",
   "metadata": {},
   "outputs": [],
   "source": [
    "# mean 함수는 수로 이루어진 리스트로 받는다\n",
    "def mean(data):\n",
    "    \n",
    "    sum_data = sum(data)\n",
    "    mean1 = sum_data/len(data)\n",
    "    \n",
    "    return mean1"
   ]
  },
  {
   "cell_type": "code",
   "execution_count": 27,
   "id": "ddbeb146",
   "metadata": {},
   "outputs": [],
   "source": [
    "#분산 구하는 식//실제 분산은 아님// 입력은 리스트로\n",
    "def val(data):\n",
    "    mean2 = mean(data)\n",
    "    cal = 0\n",
    "    \n",
    "    for i in data:\n",
    "        cal += (i-mean2)**2\n",
    "\n",
    "    return cal"
   ]
  },
  {
   "cell_type": "code",
   "execution_count": 84,
   "id": "9575b4d0",
   "metadata": {},
   "outputs": [],
   "source": [
    "# ML CLASS - 선형회귀\n",
    "class ML:\n",
    "    \n",
    "    # 초기값은 트레이닝, 테스트 데이터\n",
    "    def __init__(self, tr_data, ts_data):\n",
    "        \n",
    "        # w1, w0의 기본값(w1,w0의 선언)\n",
    "        self.w1=0\n",
    "        self.w0=0\n",
    "        \n",
    "        #트레이닝 데이터 입-출력 분할\n",
    "        self.tr_x=[]\n",
    "        self.tr_y=[]\n",
    "        for i in range(len(tr_data)):\n",
    "            self.tr_x.append(tr_data[i][0])\n",
    "            self.tr_y.append(tr_data[i][1])\n",
    "            \n",
    "        #테스트 데이터 입-출력 분할\n",
    "        self.ts_x=[]\n",
    "        self.ts_y=[]\n",
    "        for i in range(len(ts_data)):\n",
    "            self.ts_x.append(ts_data[i][0])\n",
    "            self.ts_y.append(ts_data[i][1])\n",
    "        \n",
    "        \n",
    "    def training(self):\n",
    "        \n",
    "        #트레이닝 데이터 입-출력 평균\n",
    "        self.tr_x_mean = mean(self.tr_x)\n",
    "        self.tr_y_mean = mean(self.tr_y)\n",
    "        self.tr_x_val = val(self.tr_x)\n",
    "        \n",
    "        self.cal1 = 0\n",
    "        \n",
    "        # w1 식의 윗부분\n",
    "        for i in range(len(self.tr_x)): #반복은 훈련데이터의 길이만큼\n",
    "            self.cal1 += (self.tr_y[i]-self.tr_y_mean)*(self.tr_x[i]-self.tr_x_mean)\n",
    "        \n",
    "        # val 함수는 w1의 분모부분 계산을 위한 함수\n",
    "        self.w1 = self.cal1 / self.tr_x_val\n",
    "        \n",
    "        # 계산된 w1 값으로 미리구한 훈련데이터의 평균값으로 w0구하기\n",
    "        self.w0 = self.tr_y_mean - self.w1*self.tr_x_mean\n",
    "        \n",
    "        # w1, w0가 잘 나오는 지 확인\n",
    "        print(self.w1,self.w0)\n",
    "    \n",
    "    \n",
    "    \n",
    "    # test 부분 , test 데이터 사용 및 train함수가 선행 되어야 함\n",
    "    def test(self):\n",
    "        self.error=0\n",
    "        self.count =0\n",
    "        \n",
    "        # test x값을 w1과 w0으로 만든 함수에 넣어 나온 예측 y값과 실제 y값의 차이\n",
    "        # error은 그 차이는 제곱으로 해서 시그마 한다\n",
    "        for i in range(len(self.ts_x)): #반복은 시험데이터의 길이만큼\n",
    "            self.error = ( self.ts_y[i] - (self.ts_x[i]*self.w1 +self.w0))**2\n",
    "            self.count +=1\n",
    "            \n",
    "        # 그냥 평균적인 에러가 얼마인지 궁금해서 넣은 부분\n",
    "        self.error = self.error / self.count\n",
    "        return self.error\n",
    "    \n",
    "    # 그림그리기\n",
    "    def draw(self):\n",
    "\n",
    "        self.graph_x = np.arange(0,80, 0.1)\n",
    "        self.graph_y = self.w1*self.graph_x + self.w0\n",
    "\n",
    "        plt.scatter(self.ts_x,self.ts_y)\n",
    "        plt.plot(self.graph_x,self.graph_y)\n",
    "        plt.show()\n",
    "    "
   ]
  },
  {
   "cell_type": "code",
   "execution_count": 85,
   "id": "abcbfb13",
   "metadata": {},
   "outputs": [],
   "source": [
    "# tr_data는 훈련용 데이터로 전처리한 데이터의 70%의 데이터\n",
    "# ts_data는 시험용 데이터로 전처리한 데이터의 30% 데이터\n",
    "ML1 = ML(tr_data, ts_data)\n",
    "#매개변수로 훈련용/시험용 데이터 셋 입력\n",
    "#이 때 각 데이터는 X와 Y가 같이 들어가 있다. 궁금하면 출력해봐"
   ]
  },
  {
   "cell_type": "code",
   "execution_count": 86,
   "id": "ec2e10dd",
   "metadata": {},
   "outputs": [
    {
     "name": "stdout",
     "output_type": "stream",
     "text": [
      "3.459634054126571 12.716177295622813\n"
     ]
    }
   ],
   "source": [
    "# 룬련을 하고 나온 w1 , w0가 나오는지 확인도 필요\n",
    "ML1.training()"
   ]
  },
  {
   "cell_type": "code",
   "execution_count": 87,
   "id": "8631531a",
   "metadata": {},
   "outputs": [
    {
     "data": {
      "text/plain": [
       "378.7734272084853"
      ]
     },
     "execution_count": 87,
     "metadata": {},
     "output_type": "execute_result"
    }
   ],
   "source": [
    "# 훈련한 w1.w0로 시험데이터 훈련\n",
    "ML1.test()"
   ]
  },
  {
   "cell_type": "code",
   "execution_count": 88,
   "id": "1a927c12",
   "metadata": {},
   "outputs": [
    {
     "data": {
      "image/png": "[encoded data removed]",
      "text/plain": [
       "<Figure size 432x288 with 1 Axes>"
      ]
     },
     "metadata": {
      "needs_background": "light"
     },
     "output_type": "display_data"
    }
   ],
   "source": [
    "#심심해서 만든 잘 나오는지 확인하는 그림\n",
    "ML1.draw()"
   ]
  },
  {
   "cell_type": "markdown",
   "id": "883f3d6b",
   "metadata": {},
   "source": [
    "P.S. 내가 그냥 만든거라 어딘가 틀린데도 있긴 하겠지만 이렇게도 가능하다 정도로만 봐"
   ]
  },
  {
   "cell_type": "code",
   "execution_count": null,
   "id": "1f7a3408",
   "metadata": {},
   "outputs": [],
   "source": []
  }
 ],
 "metadata": {
  "kernelspec": {
   "display_name": "Python 3 (ipykernel)",
   "language": "python",
   "name": "python3"
  },
  "language_info": {
   "codemirror_mode": {
    "name": "ipython",
    "version": 3
   },
   "file_extension": ".py",
   "mimetype": "text/x-python",
   "name": "python",
   "nbconvert_exporter": "python",
   "pygments_lexer": "ipython3",
   "version": "3.9.12"
  }
 },
 "nbformat": 4,
 "nbformat_minor": 5
}

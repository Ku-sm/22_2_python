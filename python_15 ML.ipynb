{
 "cells": [
  {
   "cell_type": "code",
   "execution_count": 30,
   "id": "f2cb8c3b",
   "metadata": {},
   "outputs": [],
   "source": [
    "import numpy as np\n",
    "import pandas as pd\n",
    "import math"
   ]
  },
  {
   "cell_type": "code",
   "execution_count": 31,
   "id": "956d0d56",
   "metadata": {},
   "outputs": [],
   "source": [
    "data = pd.read_table(r'ToyotaCorolla (1).txt',sep='\\t')"
   ]
  },
  {
   "cell_type": "code",
   "execution_count": 32,
   "id": "69851257",
   "metadata": {},
   "outputs": [
    {
     "data": {
      "text/html": [
       "<div>\n",
       "<style scoped>\n",
       "    .dataframe tbody tr th:only-of-type {\n",
       "        vertical-align: middle;\n",
       "    }\n",
       "\n",
       "    .dataframe tbody tr th {\n",
       "        vertical-align: top;\n",
       "    }\n",
       "\n",
       "    .dataframe thead th {\n",
       "        text-align: right;\n",
       "    }\n",
       "</style>\n",
       "<table border=\"1\" class=\"dataframe\">\n",
       "  <thead>\n",
       "    <tr style=\"text-align: right;\">\n",
       "      <th></th>\n",
       "      <th>Id</th>\n",
       "      <th>Price</th>\n",
       "      <th>Age_08_04</th>\n",
       "      <th>KM</th>\n",
       "      <th>cc</th>\n",
       "      <th>Doors</th>\n",
       "      <th>Weight</th>\n",
       "    </tr>\n",
       "  </thead>\n",
       "  <tbody>\n",
       "    <tr>\n",
       "      <th>0</th>\n",
       "      <td>1</td>\n",
       "      <td>13500</td>\n",
       "      <td>23</td>\n",
       "      <td>46986</td>\n",
       "      <td>2000</td>\n",
       "      <td>3</td>\n",
       "      <td>1165</td>\n",
       "    </tr>\n",
       "    <tr>\n",
       "      <th>1</th>\n",
       "      <td>2</td>\n",
       "      <td>13750</td>\n",
       "      <td>23</td>\n",
       "      <td>72937</td>\n",
       "      <td>2000</td>\n",
       "      <td>3</td>\n",
       "      <td>1165</td>\n",
       "    </tr>\n",
       "    <tr>\n",
       "      <th>2</th>\n",
       "      <td>3</td>\n",
       "      <td>13950</td>\n",
       "      <td>24</td>\n",
       "      <td>41711</td>\n",
       "      <td>2000</td>\n",
       "      <td>3</td>\n",
       "      <td>1165</td>\n",
       "    </tr>\n",
       "    <tr>\n",
       "      <th>3</th>\n",
       "      <td>4</td>\n",
       "      <td>14950</td>\n",
       "      <td>26</td>\n",
       "      <td>48000</td>\n",
       "      <td>2000</td>\n",
       "      <td>3</td>\n",
       "      <td>1165</td>\n",
       "    </tr>\n",
       "    <tr>\n",
       "      <th>4</th>\n",
       "      <td>5</td>\n",
       "      <td>13750</td>\n",
       "      <td>30</td>\n",
       "      <td>38500</td>\n",
       "      <td>2000</td>\n",
       "      <td>3</td>\n",
       "      <td>1170</td>\n",
       "    </tr>\n",
       "    <tr>\n",
       "      <th>...</th>\n",
       "      <td>...</td>\n",
       "      <td>...</td>\n",
       "      <td>...</td>\n",
       "      <td>...</td>\n",
       "      <td>...</td>\n",
       "      <td>...</td>\n",
       "      <td>...</td>\n",
       "    </tr>\n",
       "    <tr>\n",
       "      <th>1431</th>\n",
       "      <td>1438</td>\n",
       "      <td>7500</td>\n",
       "      <td>69</td>\n",
       "      <td>20544</td>\n",
       "      <td>1300</td>\n",
       "      <td>3</td>\n",
       "      <td>1025</td>\n",
       "    </tr>\n",
       "    <tr>\n",
       "      <th>1432</th>\n",
       "      <td>1439</td>\n",
       "      <td>10845</td>\n",
       "      <td>72</td>\n",
       "      <td>19000</td>\n",
       "      <td>1300</td>\n",
       "      <td>3</td>\n",
       "      <td>1015</td>\n",
       "    </tr>\n",
       "    <tr>\n",
       "      <th>1433</th>\n",
       "      <td>1440</td>\n",
       "      <td>8500</td>\n",
       "      <td>71</td>\n",
       "      <td>17016</td>\n",
       "      <td>1300</td>\n",
       "      <td>3</td>\n",
       "      <td>1015</td>\n",
       "    </tr>\n",
       "    <tr>\n",
       "      <th>1434</th>\n",
       "      <td>1441</td>\n",
       "      <td>7250</td>\n",
       "      <td>70</td>\n",
       "      <td>16916</td>\n",
       "      <td>1300</td>\n",
       "      <td>3</td>\n",
       "      <td>1015</td>\n",
       "    </tr>\n",
       "    <tr>\n",
       "      <th>1435</th>\n",
       "      <td>1442</td>\n",
       "      <td>6950</td>\n",
       "      <td>76</td>\n",
       "      <td>1</td>\n",
       "      <td>1600</td>\n",
       "      <td>5</td>\n",
       "      <td>1114</td>\n",
       "    </tr>\n",
       "  </tbody>\n",
       "</table>\n",
       "<p>1436 rows × 7 columns</p>\n",
       "</div>"
      ],
      "text/plain": [
       "        Id  Price  Age_08_04     KM    cc  Doors  Weight\n",
       "0        1  13500         23  46986  2000      3    1165\n",
       "1        2  13750         23  72937  2000      3    1165\n",
       "2        3  13950         24  41711  2000      3    1165\n",
       "3        4  14950         26  48000  2000      3    1165\n",
       "4        5  13750         30  38500  2000      3    1170\n",
       "...    ...    ...        ...    ...   ...    ...     ...\n",
       "1431  1438   7500         69  20544  1300      3    1025\n",
       "1432  1439  10845         72  19000  1300      3    1015\n",
       "1433  1440   8500         71  17016  1300      3    1015\n",
       "1434  1441   7250         70  16916  1300      3    1015\n",
       "1435  1442   6950         76      1  1600      5    1114\n",
       "\n",
       "[1436 rows x 7 columns]"
      ]
     },
     "execution_count": 32,
     "metadata": {},
     "output_type": "execute_result"
    }
   ],
   "source": [
    "data"
   ]
  },
  {
   "cell_type": "code",
   "execution_count": 33,
   "id": "f1cab0b0",
   "metadata": {},
   "outputs": [],
   "source": [
    "data1 = data[['Price','Age_08_04','KM','cc','Doors','Weight']]"
   ]
  },
  {
   "cell_type": "code",
   "execution_count": 69,
   "id": "054ddd19",
   "metadata": {},
   "outputs": [],
   "source": [
    "np_data = np.array(data1)"
   ]
  },
  {
   "cell_type": "code",
   "execution_count": 70,
   "id": "573cfaba",
   "metadata": {},
   "outputs": [
    {
     "data": {
      "text/plain": [
       "array([[13500,    23, 46986,  2000,     3,  1165],\n",
       "       [13750,    23, 72937,  2000,     3,  1165],\n",
       "       [13950,    24, 41711,  2000,     3,  1165],\n",
       "       ...,\n",
       "       [ 8500,    71, 17016,  1300,     3,  1015],\n",
       "       [ 7250,    70, 16916,  1300,     3,  1015],\n",
       "       [ 6950,    76,     1,  1600,     5,  1114]], dtype=int64)"
      ]
     },
     "execution_count": 70,
     "metadata": {},
     "output_type": "execute_result"
    }
   ],
   "source": [
    "np_data"
   ]
  },
  {
   "cell_type": "code",
   "execution_count": 92,
   "id": "428279df",
   "metadata": {},
   "outputs": [],
   "source": [
    "def train_test_split(Data ,test_size=0.3,random=False,random_seed=None):\n",
    "    \n",
    "    length = len(Data)\n",
    "    index=np.array(range(length))\n",
    "    test_size_len = math.ceil(length*test_size)\n",
    "    \n",
    "    if (random):   \n",
    "        rs = np.random.RandomState(random_seed)\n",
    "        rs.shuffle(index)\n",
    "    \n",
    "    temp_list = []\n",
    "    \n",
    "    for i in range(length):\n",
    "        temp_list.append(Data[index[i]])\n",
    "        \n",
    "    train = np.array(temp_list[test_size_len:])\n",
    "    test = np.array(temp_list[:test_size_len])\n",
    "    \n",
    "    train_x = train[1:]\n",
    "    train_y = train[0]\n",
    "    test_x = test[1:]\n",
    "    test_y = test[0]\n",
    "    \n",
    "    return train_x,train_y, train_x, test_y"
   ]
  },
  {
   "cell_type": "code",
   "execution_count": 101,
   "id": "1e20727d",
   "metadata": {},
   "outputs": [
    {
     "data": {
      "text/plain": [
       "array([[  7600,     78,  36000,   1600,      3,   1050],\n",
       "       [  8950,     54, 149329,   2000,      5,   1135],\n",
       "       [ 10950,     57,  80470,   1600,      5,   1085],\n",
       "       ...,\n",
       "       [ 11895,     39,  27170,   1400,      5,   1060],\n",
       "       [ 14900,     30,  22000,   1400,      5,   1110],\n",
       "       [  7750,     68,  74875,   1600,      5,   1070]], dtype=int64)"
      ]
     },
     "execution_count": 101,
     "metadata": {},
     "output_type": "execute_result"
    }
   ],
   "source": [
    "train_x ,train_y, train_x, test_y = train_test_split(np_data, random =True , random_seed = 100)\n",
    "train_x"
   ]
  },
  {
   "cell_type": "markdown",
   "id": "9d2cf7bb",
   "metadata": {},
   "source": [
    "MLR"
   ]
  },
  {
   "cell_type": "markdown",
   "id": "d9cf84db",
   "metadata": {},
   "source": [
    "$ \\hat{w} = (x^{t}*x)^{-1}x^{t}y $"
   ]
  },
  {
   "cell_type": "code",
   "execution_count": null,
   "id": "731ab6f5",
   "metadata": {},
   "outputs": [],
   "source": [
    "class MLR:\n",
    "    \n",
    "    def __init__(self,intercept=True):\n",
    "        self.ceof_=None\n",
    "        \n",
    "        # y절편 구하는 기능\n",
    "        self.intercept = intercept\n",
    "        \n",
    "    def fit(self,X,Y):\n",
    "        \n",
    "        if self.intercept:\n",
    "            new_input_x = self.intercept_add(X)\n",
    "        else:\n",
    "            new_input_x = X\n",
    "            \n",
    "        # w hat구하기 // 위의 식과 같다.\n",
    "        self.coef_ = np.linalg.inv(new_input_x.tanspose() * new_input_x)* new_input_x.transpose()*Y\n",
    "        \n",
    "        #y 절편 구하기 위해서 맨 마지막에 1을 추가// y = wx+b 에서 b(절편)의 역할\n",
    "    def intercept_add(self,X):\n",
    "        \n",
    "        # X데이터 길이만큼의 1로 만들어진 배열 생성\n",
    "        # reshape(-1,1) 로 행렬 재구성 // 1개씩 들어가는 2차원 배열 생성\n",
    "        \n",
    "        ones = np.ones(X.shape[0]).reshape(-1,1)\n",
    "        # X데이터에 1로 구성된 행렬 붙이기\n",
    "        result = np.concatenate([X,ones],axis=1)\n",
    "        \n",
    "        return result"
   ]
  },
  {
   "cell_type": "markdown",
   "id": "6333a057",
   "metadata": {},
   "source": [
    "[np.shape 관련](https://numpy.org/doc/stable/reference/generated/numpy.reshape.html)"
   ]
  },
  {
   "cell_type": "code",
   "execution_count": 105,
   "id": "e4a45282",
   "metadata": {},
   "outputs": [
    {
     "data": {
      "text/plain": [
       "array([[1.],\n",
       "       [1.],\n",
       "       [1.],\n",
       "       ...,\n",
       "       [1.],\n",
       "       [1.],\n",
       "       [1.]])"
      ]
     },
     "execution_count": 105,
     "metadata": {},
     "output_type": "execute_result"
    }
   ],
   "source": [
    "ones = np.ones((train_x.shape[0])).reshape(-1,1)\n",
    "ones"
   ]
  },
  {
   "cell_type": "code",
   "execution_count": 112,
   "id": "c0305fc9",
   "metadata": {},
   "outputs": [
    {
     "name": "stdout",
     "output_type": "stream",
     "text": [
      "(1004, 6)\n"
     ]
    },
    {
     "data": {
      "text/plain": [
       "array([[  7600,     78,  36000,   1600,      3,   1050],\n",
       "       [  8950,     54, 149329,   2000,      5,   1135],\n",
       "       [ 10950,     57,  80470,   1600,      5,   1085],\n",
       "       ...,\n",
       "       [ 11895,     39,  27170,   1400,      5,   1060],\n",
       "       [ 14900,     30,  22000,   1400,      5,   1110],\n",
       "       [  7750,     68,  74875,   1600,      5,   1070]], dtype=int64)"
      ]
     },
     "execution_count": 112,
     "metadata": {},
     "output_type": "execute_result"
    }
   ],
   "source": [
    "print(train_x.shape)\n",
    "train_x"
   ]
  },
  {
   "cell_type": "code",
   "execution_count": 113,
   "id": "97755e45",
   "metadata": {},
   "outputs": [
    {
     "name": "stdout",
     "output_type": "stream",
     "text": [
      "(1004, 7)\n"
     ]
    },
    {
     "data": {
      "text/plain": [
       "array([[7.60000e+03, 7.80000e+01, 3.60000e+04, ..., 3.00000e+00,\n",
       "        1.05000e+03, 1.00000e+00],\n",
       "       [8.95000e+03, 5.40000e+01, 1.49329e+05, ..., 5.00000e+00,\n",
       "        1.13500e+03, 1.00000e+00],\n",
       "       [1.09500e+04, 5.70000e+01, 8.04700e+04, ..., 5.00000e+00,\n",
       "        1.08500e+03, 1.00000e+00],\n",
       "       ...,\n",
       "       [1.18950e+04, 3.90000e+01, 2.71700e+04, ..., 5.00000e+00,\n",
       "        1.06000e+03, 1.00000e+00],\n",
       "       [1.49000e+04, 3.00000e+01, 2.20000e+04, ..., 5.00000e+00,\n",
       "        1.11000e+03, 1.00000e+00],\n",
       "       [7.75000e+03, 6.80000e+01, 7.48750e+04, ..., 5.00000e+00,\n",
       "        1.07000e+03, 1.00000e+00]])"
      ]
     },
     "execution_count": 113,
     "metadata": {},
     "output_type": "execute_result"
    }
   ],
   "source": [
    "re = np.concatenate([train_x,ones],axis=1)\n",
    "print(re.shape)\n",
    "# 1을 추가된 것을 확인 할 수 있다.\n",
    "re"
   ]
  },
  {
   "cell_type": "code",
   "execution_count": null,
   "id": "4f319380",
   "metadata": {},
   "outputs": [],
   "source": [
    "MSE_list = []\n",
    "for i in range:\n",
    "    예측 하는 함수 실행\n",
    "    MSE_list.append(np.mean((Y-Y^hat)**2))\n",
    "    MSE를 리스트로 저장 가능"
   ]
  },
  {
   "cell_type": "code",
   "execution_count": null,
   "id": "de9179c7",
   "metadata": {},
   "outputs": [],
   "source": []
  }
 ],
 "metadata": {
  "kernelspec": {
   "display_name": "Python 3 (ipykernel)",
   "language": "python",
   "name": "python3"
  },
  "language_info": {
   "codemirror_mode": {
    "name": "ipython",
    "version": 3
   },
   "file_extension": ".py",
   "mimetype": "text/x-python",
   "name": "python",
   "nbconvert_exporter": "python",
   "pygments_lexer": "ipython3",
   "version": "3.9.12"
  }
 },
 "nbformat": 4,
 "nbformat_minor": 5
}

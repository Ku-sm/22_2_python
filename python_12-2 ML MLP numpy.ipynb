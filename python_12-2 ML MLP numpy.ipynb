{
 "cells": [
  {
   "cell_type": "markdown",
   "id": "da863faf",
   "metadata": {},
   "source": [
    "numpy만 사용하는 version"
   ]
  },
  {
   "cell_type": "code",
   "execution_count": 120,
   "id": "01af1139",
   "metadata": {},
   "outputs": [],
   "source": [
    "import numpy as np\n",
    "import math"
   ]
  },
  {
   "cell_type": "markdown",
   "id": "75324e58",
   "metadata": {},
   "source": [
    "데이터 불러오기"
   ]
  },
  {
   "cell_type": "code",
   "execution_count": 121,
   "id": "75123625",
   "metadata": {},
   "outputs": [],
   "source": [
    "f = open('ToyotaCorolla (1).txt','r',encoding = 'utf-8')\n",
    "raw_data = f.readlines()\n",
    "f.close()"
   ]
  },
  {
   "cell_type": "markdown",
   "id": "b0432ba8",
   "metadata": {},
   "source": [
    "데이터 전처리"
   ]
  },
  {
   "cell_type": "code",
   "execution_count": 122,
   "id": "836a7f90",
   "metadata": {},
   "outputs": [],
   "source": [
    "# 데이터 처리용 리스트\n",
    "data1 = []\n",
    "data2 = []\n",
    "data3 = []\n",
    "\n",
    "for i in range(len(raw_data)):\n",
    "    data1.append(raw_data[i].split())\n",
    "    \n",
    "# 맨 앞줄 떼기\n",
    "data2 = data1[1:]\n",
    "\n",
    "for i in range(len(data2)):\n",
    "    for j in range(len(data2[i])):\n",
    "        data2[i][j] = float(data2[i][j])\n",
    "        \n",
    "# 데이터의 인덱스 없애기\n",
    "for i in range(len(data2)):\n",
    "    data3.append(data2[i][1:])\n"
   ]
  },
  {
   "cell_type": "markdown",
   "id": "9d98ab36",
   "metadata": {},
   "source": [
    "배열을 랜덤으로 섞기"
   ]
  },
  {
   "cell_type": "code",
   "execution_count": 123,
   "id": "2d6b1a7e",
   "metadata": {},
   "outputs": [],
   "source": [
    "#랜덤배열 리스트 저장용\n",
    "shuffle = []\n",
    "\n",
    "# 처리한 데이터 길이만큼의 배열 선언\n",
    "arr = np.arange(len(data3))\n",
    "\n",
    "# 랜덤시드 결정 및 섞기\n",
    "rs = np.random.RandomState(100)\n",
    "rs.shuffle(arr)\n",
    "\n",
    "# 랜덤으로 섞인 인덱스로 새로운 랜덤 데이터 만들기\n",
    "for i in arr:\n",
    "    shuffle.append(data3[i])"
   ]
  },
  {
   "cell_type": "markdown",
   "id": "edaa1cd5",
   "metadata": {},
   "source": [
    "$x,y$ 데이터 나누기 및 훈련/테스트 나누기 7:3"
   ]
  },
  {
   "cell_type": "code",
   "execution_count": 124,
   "id": "7c6a3a5a",
   "metadata": {},
   "outputs": [],
   "source": [
    "data_len = len(shuffle)\n",
    "\n",
    "# x, y 데이터 구분\n",
    "x = []\n",
    "y = []\n",
    "\n",
    "for i in range(data_len):\n",
    "    x.append(shuffle[i][1:])\n",
    "    y.append(shuffle[i][0])"
   ]
  },
  {
   "cell_type": "code",
   "execution_count": 125,
   "id": "306dd53c",
   "metadata": {},
   "outputs": [],
   "source": [
    "sep_len = math.ceil(data_len * 0.7)\n",
    "\n",
    "# numpy 계산이 필요하므로 numpy 배열로 동시에 바꾼다\n",
    "tr_x = np.array(x[:sep_len])\n",
    "ts_x = np.array(x[sep_len:])\n",
    "\n",
    "tr_y = np.array(y[:sep_len])\n",
    "ts_y = np.array(y[sep_len:])"
   ]
  },
  {
   "cell_type": "markdown",
   "id": "86cda77b",
   "metadata": {},
   "source": [
    "$ \\hat{w} = (x^{t}*x)^{-1}x^{t}y $"
   ]
  },
  {
   "cell_type": "code",
   "execution_count": 126,
   "id": "8948adf9",
   "metadata": {},
   "outputs": [],
   "source": [
    "# np.dot은 행렬곱 해주는 함수\n",
    "trans_x = np.transpose(tr_x)\n",
    "\n",
    "mul1 = np.dot(trans_x,tr_x)\n",
    "mul2 = np.dot( np.linalg.inv(mul1) , trans_x)\n",
    "w_hat = np.dot(mul2 , tr_y)\n"
   ]
  },
  {
   "cell_type": "markdown",
   "id": "9c07a490",
   "metadata": {},
   "source": [
    "$ \\hat{y} = x\\hat{w} $  \n",
    "y_예측 = x * W  \n",
    "행렬의 곱은 행과 열의 수를 맞춰야 곱셈이 된다!!"
   ]
  },
  {
   "cell_type": "code",
   "execution_count": 127,
   "id": "d9c608e2",
   "metadata": {},
   "outputs": [],
   "source": [
    "y_predict = np.dot(ts_x , w_hat)\n",
    "y_sub = ts_y - y_predict\n",
    "n = len(y_sub)"
   ]
  },
  {
   "cell_type": "markdown",
   "id": "f3ec9f76",
   "metadata": {},
   "source": [
    "$ MSE = \\frac{1}{n}\\displaystyle\\sum_{i=1}^{n}{(y_{i} - \\hat{y_{i}})^2}$"
   ]
  },
  {
   "cell_type": "code",
   "execution_count": 128,
   "id": "e6dcb661",
   "metadata": {},
   "outputs": [
    {
     "name": "stdout",
     "output_type": "stream",
     "text": [
      "2319356.177636233\n"
     ]
    }
   ],
   "source": [
    "total = 0\n",
    "for i in range(n):\n",
    "    total += (y_sub[i])**2\n",
    "\n",
    "MSE = total/n\n",
    "\n",
    "print(MSE)"
   ]
  },
  {
   "cell_type": "markdown",
   "id": "1cf6f985",
   "metadata": {},
   "source": [
    "$ MAPE = \\frac{1}{n}\\displaystyle\\sum_{i=1}^{n}{ \\frac{\\vert{(y_{i} - \\hat{y_{i}})^2\\vert}}{\\vert{y_{i}\\vert}}}$"
   ]
  },
  {
   "cell_type": "code",
   "execution_count": 129,
   "id": "d3fe4c70",
   "metadata": {},
   "outputs": [
    {
     "name": "stdout",
     "output_type": "stream",
     "text": [
      "194.8477980910989\n"
     ]
    }
   ],
   "source": [
    "total = 0\n",
    "for i in range(n):\n",
    "    total += (y_sub[i])**2 / abs(ts_y[i])\n",
    "\n",
    "MAPE = total/n\n",
    "    \n",
    "print(MAPE)"
   ]
  }
 ],
 "metadata": {
  "kernelspec": {
   "display_name": "Python 3 (ipykernel)",
   "language": "python",
   "name": "python3"
  },
  "language_info": {
   "codemirror_mode": {
    "name": "ipython",
    "version": 3
   },
   "file_extension": ".py",
   "mimetype": "text/x-python",
   "name": "python",
   "nbconvert_exporter": "python",
   "pygments_lexer": "ipython3",
   "version": "3.9.12"
  }
 },
 "nbformat": 4,
 "nbformat_minor": 5
}

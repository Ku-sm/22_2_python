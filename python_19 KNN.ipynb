{
 "cells": [
  {
   "cell_type": "code",
   "execution_count": 43,
   "id": "76c569df",
   "metadata": {},
   "outputs": [],
   "source": [
    "import numpy as np\n",
    "import pandas as pd\n",
    "import math"
   ]
  },
  {
   "cell_type": "code",
   "execution_count": 2,
   "id": "d2435db7",
   "metadata": {},
   "outputs": [],
   "source": [
    "file = pd.read_csv('iris.csv')"
   ]
  },
  {
   "cell_type": "code",
   "execution_count": 4,
   "id": "1a918bed",
   "metadata": {},
   "outputs": [],
   "source": [
    "data = np.array(file)"
   ]
  },
  {
   "cell_type": "code",
   "execution_count": 5,
   "id": "6cdbd53e",
   "metadata": {},
   "outputs": [],
   "source": [
    "#랜덤배열 리스트 저장용\n",
    "shuffle = []\n",
    "\n",
    "# 처리한 데이터 길이만큼의 배열 선언\n",
    "arr = np.arange(len(data))\n",
    "\n",
    "# 랜덤시드 결정 및 섞기\n",
    "rs = np.random.RandomState(100)\n",
    "rs.shuffle(arr)\n",
    "\n",
    "# 랜덤으로 섞인 인덱스로 새로운 랜덤 데이터 만들기\n",
    "for i in arr:\n",
    "    shuffle.append(data[i])"
   ]
  },
  {
   "cell_type": "code",
   "execution_count": 65,
   "id": "8f233441",
   "metadata": {},
   "outputs": [],
   "source": [
    "data_len = len(shuffle)\n",
    "\n",
    "# x, y 데이터 구분\n",
    "x = []\n",
    "y = []\n",
    "\n",
    "for i in range(data_len):\n",
    "    x.append(shuffle[i][:-1])\n",
    "    y.append(shuffle[i][-1])\n",
    "    \n",
    "sep_len = math.ceil(data_len * 0.7)\n",
    "\n",
    "# numpy 계산이 필요하므로 numpy 배열로 동시에 바꾼다\n",
    "tr_x = np.array(x[:sep_len])\n",
    "ts_x = np.array(x[sep_len:])\n",
    "\n",
    "tr_y = np.array(y[:sep_len])\n",
    "ts_y = np.array(y[sep_len:])"
   ]
  },
  {
   "cell_type": "code",
   "execution_count": 66,
   "id": "bdc0b368",
   "metadata": {},
   "outputs": [],
   "source": [
    "def Euclidiean(input_x, tr_x):\n",
    "    diff_ = tr_x - input_x\n",
    "    distance = []\n",
    "    \n",
    "    for i in range(len(diff_)):\n",
    "        dis = np.dot(diff_[i],np.matrix.transpose(diff_[i]))\n",
    "        distance.append(dis)\n",
    "        \n",
    "    result = np.array(distance)\n",
    "    \n",
    "    return result"
   ]
  },
  {
   "cell_type": "code",
   "execution_count": 67,
   "id": "7d1eca93",
   "metadata": {},
   "outputs": [],
   "source": [
    "def Manhattan(input_x , tr_x):\n",
    "    diff_ = tr_x - input_x\n",
    "    distance = []\n",
    "    \n",
    "    for i in range(len(diff_)):\n",
    "        sum_val = np.sum(np.absolute(diff_[i]))\n",
    "        distance.append(sum_val)\n",
    "        \n",
    "    result = np.array(distance)\n",
    "    \n",
    "    return result"
   ]
  },
  {
   "cell_type": "code",
   "execution_count": 188,
   "id": "0d356d0c",
   "metadata": {},
   "outputs": [],
   "source": [
    "def Mahalanobis(input_x , tr_x):\n",
    "    \n",
    "    diff_ = tr_x - input_x\n",
    "    distance = []\n",
    "    \n",
    "    #만일을 위한 조치\n",
    "    tr_x = np.array(tr_x , dtype='float') \n",
    "    \n",
    "    cov = np.cov(tr_x.T)\n",
    "    inv_cov = np.linalg.inv(cov)\n",
    "    \n",
    "    for i in range(len(diff_)):      \n",
    "        cal = np.sqrt(np.dot(diff_[i].T , np.dot(inv_cov,diff_[i])))\n",
    "        distance.append(cal)\n",
    "    \n",
    "    return distance"
   ]
  },
  {
   "cell_type": "code",
   "execution_count": 189,
   "id": "5ff649b2",
   "metadata": {},
   "outputs": [],
   "source": [
    "def KNN(input_x , tr_x, tr_y , k = 3 , dis_way = 'Euc'):\n",
    "    \n",
    "    index_list = []\n",
    "    result_list = []\n",
    "    dis = []\n",
    "    \n",
    "    if(dis_way =='Euc'):\n",
    "        dis.append(Euclidiean(input_x, tr_x))\n",
    "    elif(dis_way =='Manh'):\n",
    "        dis.append(Manhattan(input_x, tr_x))\n",
    "    elif(dis_way == 'Maha' ):\n",
    "        dis.append(Mahalanobis(input_x, tr_x))\n",
    "    else:\n",
    "        print('Error!')\n",
    "        return 0\n",
    "    \n",
    "    dis = np.array(dis , dtype='float')\n",
    "    dis = dis.reshape(-1,1)\n",
    "    \n",
    "    indexes = np.array(range(len(dis))).reshape(-1,1)\n",
    "    index_dis = np.concatenate([indexes , dis] , axis=1)\n",
    "    \n",
    "    dis_list = sorted( index_dis , key=lambda x:x[1])\n",
    "    least_dis = dis_list[:k]\n",
    "    \n",
    "    for i in least_dis:\n",
    "        \n",
    "        least_index = int(i[0])\n",
    "        result_list.append(tr_y[least_index])\n",
    "        \n",
    "    (result ,counts) = np.unique(result_list , return_counts = True)\n",
    "    max_count = max(counts)\n",
    "    \n",
    "    for i in range(len(counts)):\n",
    "        if(max_count == counts[i]):\n",
    "            pre = result[i]\n",
    "    \n",
    "    return pre"
   ]
  },
  {
   "cell_type": "code",
   "execution_count": 195,
   "id": "3f4c134f",
   "metadata": {},
   "outputs": [],
   "source": [
    "def correction(result, ts_y):\n",
    "    cor = 0\n",
    "    length =len(ts_y)\n",
    "    for i in range(length):\n",
    "        if(result[i] == ts_y[i]):\n",
    "            cor += 1\n",
    "            \n",
    "    correct = cor/length\n",
    "            \n",
    "    return correct"
   ]
  },
  {
   "cell_type": "code",
   "execution_count": 201,
   "id": "51fda5ce",
   "metadata": {},
   "outputs": [],
   "source": [
    "result_list = []\n",
    "for i in range(len(ts_x)):\n",
    "    result = KNN(ts_x[i], tr_x,tr_y , dis_way='Maha') \n",
    "    result_list.append(result)"
   ]
  },
  {
   "cell_type": "code",
   "execution_count": 202,
   "id": "dbd8a90d",
   "metadata": {},
   "outputs": [
    {
     "data": {
      "text/plain": [
       "0.8888888888888888"
      ]
     },
     "execution_count": 202,
     "metadata": {},
     "output_type": "execute_result"
    }
   ],
   "source": [
    "correction(result_list,ts_y)"
   ]
  },
  {
   "cell_type": "code",
   "execution_count": null,
   "id": "a74062f5",
   "metadata": {},
   "outputs": [],
   "source": []
  }
 ],
 "metadata": {
  "kernelspec": {
   "display_name": "Python 3 (ipykernel)",
   "language": "python",
   "name": "python3"
  },
  "language_info": {
   "codemirror_mode": {
    "name": "ipython",
    "version": 3
   },
   "file_extension": ".py",
   "mimetype": "text/x-python",
   "name": "python",
   "nbconvert_exporter": "python",
   "pygments_lexer": "ipython3",
   "version": "3.9.12"
  }
 },
 "nbformat": 4,
 "nbformat_minor": 5
}

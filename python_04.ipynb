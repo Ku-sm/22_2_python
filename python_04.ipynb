{
 "cells": [
  {
   "cell_type": "markdown",
   "id": "6edcfd27",
   "metadata": {},
   "source": [
    "### for문 예시  \n",
    "for(시작,종단,반복)"
   ]
  },
  {
   "cell_type": "code",
   "execution_count": 2,
   "id": "59e6714b",
   "metadata": {},
   "outputs": [
    {
     "name": "stdout",
     "output_type": "stream",
     "text": [
      "45\n"
     ]
    }
   ],
   "source": [
    "sum = 0\n",
    "for i in range(10):\n",
    "    sum +=i\n",
    "    \n",
    "print(\"{}\".format(sum))"
   ]
  },
  {
   "cell_type": "markdown",
   "id": "0efce9ad",
   "metadata": {},
   "source": [
    "### while문 예시"
   ]
  },
  {
   "cell_type": "code",
   "execution_count": 6,
   "id": "e720d176",
   "metadata": {},
   "outputs": [
    {
     "name": "stdout",
     "output_type": "stream",
     "text": [
      "Hello world!\n",
      "Hello world!\n",
      "Hello world!\n",
      "Hello world!\n",
      "Hello world!\n"
     ]
    }
   ],
   "source": [
    "k = 0\n",
    "\n",
    "while (k<5):\n",
    "    print(\"Hello world!\")\n",
    "    k+=1"
   ]
  },
  {
   "cell_type": "markdown",
   "id": "6ed8a8b5",
   "metadata": {},
   "source": [
    "###  break는 반복문 종료, continue는 반복하던 것 건너뛰기"
   ]
  },
  {
   "cell_type": "code",
   "execution_count": 10,
   "id": "6b7db7cd",
   "metadata": {},
   "outputs": [
    {
     "name": "stdout",
     "output_type": "stream",
     "text": [
      "12\n"
     ]
    }
   ],
   "source": [
    "i=0\n",
    "while(True):\n",
    "    if(i >11):\n",
    "        print(\"{}\".format(i))\n",
    "        break\n",
    "    else:\n",
    "        i+=1\n",
    "        continue\n",
    "        print(k)"
   ]
  },
  {
   "cell_type": "markdown",
   "id": "f433f15e",
   "metadata": {},
   "source": [
    "리스트도 하나의 객체다 "
   ]
  },
  {
   "cell_type": "code",
   "execution_count": 25,
   "id": "a5ace0df",
   "metadata": {},
   "outputs": [
    {
     "name": "stdout",
     "output_type": "stream",
     "text": [
      "letters_type:<class 'str'>,list_type:<class 'list'>\n"
     ]
    }
   ],
   "source": [
    "letters = 'letter'\n",
    "list = ['l','e','t','t','e','r']\n",
    "print('letters_type:{},list_type:{}'.format(type(letters), type(list)))"
   ]
  },
  {
   "cell_type": "code",
   "execution_count": 26,
   "id": "98a4e068",
   "metadata": {},
   "outputs": [
    {
     "data": {
      "text/plain": [
       "['닥터', '헐크', '아이언맨', '위치', '토르', '호크아이']"
      ]
     },
     "execution_count": 26,
     "metadata": {},
     "output_type": "execute_result"
    }
   ],
   "source": [
    "heros = ['닥터','헐크','아이언맨','위치','토르']\n",
    "heros.append('호크아이')\n",
    "heros"
   ]
  },
  {
   "cell_type": "code",
   "execution_count": 27,
   "id": "6709ce69",
   "metadata": {},
   "outputs": [
    {
     "data": {
      "text/plain": [
       "['닥터', '헐크', '로다주', '아이언맨', '위치', '토르', '호크아이']"
      ]
     },
     "execution_count": 27,
     "metadata": {},
     "output_type": "execute_result"
    }
   ],
   "source": [
    "heros.insert(2,\"로다주\")\n",
    "heros"
   ]
  },
  {
   "cell_type": "code",
   "execution_count": 28,
   "id": "f95d09c1",
   "metadata": {},
   "outputs": [
    {
     "data": {
      "text/plain": [
       "['닥터', '헐크', '아이언맨', '위치', '토르', '호크아이']"
      ]
     },
     "execution_count": 28,
     "metadata": {},
     "output_type": "execute_result"
    }
   ],
   "source": [
    "heros.remove('로다주')\n",
    "heros"
   ]
  },
  {
   "cell_type": "code",
   "execution_count": 29,
   "id": "748b2cb7",
   "metadata": {},
   "outputs": [
    {
     "data": {
      "text/plain": [
       "['닥터', '아이언맨', '위치', '토르', '호크아이']"
      ]
     },
     "execution_count": 29,
     "metadata": {},
     "output_type": "execute_result"
    }
   ],
   "source": [
    "del heros[1]\n",
    "heros"
   ]
  },
  {
   "cell_type": "markdown",
   "id": "cc0215b9",
   "metadata": {},
   "source": [
    "del 변수명 -> 그 변수의 삭제 // 리스트 요소면 요소대로, 리스트 변수면 리스트 대로 삭제 "
   ]
  },
  {
   "cell_type": "code",
   "execution_count": 32,
   "id": "d3ce53d3",
   "metadata": {
    "scrolled": true
   },
   "outputs": [
    {
     "ename": "NameError",
     "evalue": "name 'heros' is not defined",
     "output_type": "error",
     "traceback": [
      "\u001b[1;31m---------------------------------------------------------------------------\u001b[0m",
      "\u001b[1;31mNameError\u001b[0m                                 Traceback (most recent call last)",
      "Input \u001b[1;32mIn [32]\u001b[0m, in \u001b[0;36m<cell line: 1>\u001b[1;34m()\u001b[0m\n\u001b[1;32m----> 1\u001b[0m \u001b[38;5;28;01mdel\u001b[39;00m heros\n\u001b[0;32m      2\u001b[0m heros\n",
      "\u001b[1;31mNameError\u001b[0m: name 'heros' is not defined"
     ]
    }
   ],
   "source": [
    "del heros\n",
    "heros"
   ]
  },
  {
   "cell_type": "code",
   "execution_count": 33,
   "id": "171e3cc9",
   "metadata": {},
   "outputs": [
    {
     "name": "stdout",
     "output_type": "stream",
     "text": [
      "닥터\n",
      "헐크\n",
      "아이언맨\n",
      "위치\n",
      "토르\n"
     ]
    }
   ],
   "source": [
    "heros = ['닥터','헐크','아이언맨','위치','토르']\n",
    "\n",
    "for hero in heros:\n",
    "    print(hero)"
   ]
  },
  {
   "cell_type": "markdown",
   "id": "e571a53d",
   "metadata": {},
   "source": [
    "[] 는 리스트 , ()는 튜플이다  \n",
    "리스트는 삽입 삭제 수정 등이 가능하지만, 튜플은 수정이 불가능하다"
   ]
  },
  {
   "cell_type": "code",
   "execution_count": 34,
   "id": "7b02257b",
   "metadata": {},
   "outputs": [
    {
     "data": {
      "text/plain": [
       "'헐크'"
      ]
     },
     "execution_count": 34,
     "metadata": {},
     "output_type": "execute_result"
    }
   ],
   "source": [
    "heros = ('닥터','헐크','아이언맨','위치','토르')\n",
    "heros[1]"
   ]
  },
  {
   "cell_type": "markdown",
   "id": "c4df4403",
   "metadata": {},
   "source": [
    "딕셔너리는 인덱스가 존재하지 않고 값을 키값으로만 가능하다. "
   ]
  },
  {
   "cell_type": "code",
   "execution_count": 35,
   "id": "82992422",
   "metadata": {},
   "outputs": [],
   "source": [
    "phone_book = {}\n",
    "phone_book['닥터'] = '010-7474-9999'\n",
    "phone_book['헐크'] = '010-7473-8888'\n",
    "phone_book['위치'] = '010-7472-7777'\n",
    "phone_book['토르'] = '010-7471-6666'"
   ]
  },
  {
   "cell_type": "code",
   "execution_count": 36,
   "id": "da04c8c5",
   "metadata": {},
   "outputs": [
    {
     "data": {
      "text/plain": [
       "'010-7474-9999'"
      ]
     },
     "execution_count": 36,
     "metadata": {},
     "output_type": "execute_result"
    }
   ],
   "source": [
    "phone_book['닥터']"
   ]
  },
  {
   "cell_type": "code",
   "execution_count": 38,
   "id": "555d59a9",
   "metadata": {},
   "outputs": [],
   "source": [
    "a={}\n",
    "a['학생A'] = ['010-4778-8981','A', 183]\n",
    "a['학생B'] = ['010-4732-8934','A+', 180]"
   ]
  },
  {
   "cell_type": "markdown",
   "id": "eccd279c",
   "metadata": {},
   "source": [
    "딕셔너리 값으로 리스트를 넣으면 전체 요소 저장 가능하며 수정 가능  \n",
    "BUT 값으로 튜플을 넣으면 수정이 불가능해진다"
   ]
  },
  {
   "cell_type": "code",
   "execution_count": 42,
   "id": "a561e6ca",
   "metadata": {},
   "outputs": [
    {
     "data": {
      "text/plain": [
       "'C+'"
      ]
     },
     "execution_count": 42,
     "metadata": {},
     "output_type": "execute_result"
    }
   ],
   "source": [
    "a['학생A'][1] = 'C+'\n",
    "a['학생A'][1]"
   ]
  },
  {
   "cell_type": "markdown",
   "id": "9e10afb3",
   "metadata": {},
   "source": [
    "집합은 {}으로 생성 가능하며 중복이 없는 순서 없는 집합이다 "
   ]
  },
  {
   "cell_type": "code",
   "execution_count": 52,
   "id": "e52eab80",
   "metadata": {},
   "outputs": [
    {
     "name": "stdout",
     "output_type": "stream",
     "text": [
      "['{1,', '2,', '3,', '4,', '5,', '6}', '{1,', '2,', '3,', '4,', '5}']\n"
     ]
    }
   ],
   "source": [
    "x = {1,2,3,4,5,6}\n",
    "y = {1,1,2,2,3,3,4,4,5}\n",
    "print('{} {}'.format(x,y).split(\" \"))"
   ]
  },
  {
   "cell_type": "code",
   "execution_count": 53,
   "id": "229b41a7",
   "metadata": {},
   "outputs": [
    {
     "ename": "TypeError",
     "evalue": "'set' object is not subscriptable",
     "output_type": "error",
     "traceback": [
      "\u001b[1;31m---------------------------------------------------------------------------\u001b[0m",
      "\u001b[1;31mTypeError\u001b[0m                                 Traceback (most recent call last)",
      "Input \u001b[1;32mIn [53]\u001b[0m, in \u001b[0;36m<cell line: 1>\u001b[1;34m()\u001b[0m\n\u001b[1;32m----> 1\u001b[0m \u001b[43mx\u001b[49m\u001b[43m[\u001b[49m\u001b[38;5;241;43m1\u001b[39;49m\u001b[43m]\u001b[49m\n",
      "\u001b[1;31mTypeError\u001b[0m: 'set' object is not subscriptable"
     ]
    }
   ],
   "source": [
    "x[1]"
   ]
  },
  {
   "cell_type": "code",
   "execution_count": null,
   "id": "9f836df2",
   "metadata": {},
   "outputs": [],
   "source": []
  }
 ],
 "metadata": {
  "kernelspec": {
   "display_name": "Python 3 (ipykernel)",
   "language": "python",
   "name": "python3"
  },
  "language_info": {
   "codemirror_mode": {
    "name": "ipython",
    "version": 3
   },
   "file_extension": ".py",
   "mimetype": "text/x-python",
   "name": "python",
   "nbconvert_exporter": "python",
   "pygments_lexer": "ipython3",
   "version": "3.9.12"
  }
 },
 "nbformat": 4,
 "nbformat_minor": 5
}

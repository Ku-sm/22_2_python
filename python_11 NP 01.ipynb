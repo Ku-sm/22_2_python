{
 "cells": [
  {
   "cell_type": "code",
   "execution_count": 1,
   "id": "a4d2a654",
   "metadata": {},
   "outputs": [],
   "source": [
    "import numpy as np"
   ]
  },
  {
   "cell_type": "code",
   "execution_count": 32,
   "id": "767e5abf",
   "metadata": {},
   "outputs": [],
   "source": [
    "data = [1,2,3.3]\n",
    "data1 = [[1,2],[2,3],[3,4]]\n",
    "data2 = [[[1,2],[2,3],[3,4]],[[1,2],[2,3],[3,4]]]"
   ]
  },
  {
   "cell_type": "code",
   "execution_count": 33,
   "id": "7f85e372",
   "metadata": {},
   "outputs": [],
   "source": [
    "a = np.array(data2)"
   ]
  },
  {
   "cell_type": "code",
   "execution_count": 34,
   "id": "5d19960c",
   "metadata": {},
   "outputs": [
    {
     "data": {
      "text/plain": [
       "array([[[1, 2],\n",
       "        [2, 3],\n",
       "        [3, 4]],\n",
       "\n",
       "       [[1, 2],\n",
       "        [2, 3],\n",
       "        [3, 4]]])"
      ]
     },
     "execution_count": 34,
     "metadata": {},
     "output_type": "execute_result"
    }
   ],
   "source": [
    "a"
   ]
  },
  {
   "cell_type": "code",
   "execution_count": 35,
   "id": "ac257add",
   "metadata": {},
   "outputs": [
    {
     "name": "stdout",
     "output_type": "stream",
     "text": [
      "<class 'numpy.ndarray'>\n",
      "3\n",
      "(2, 3, 2)\n",
      "12\n",
      "int32\n",
      "4\n"
     ]
    }
   ],
   "source": [
    "# array 자료 구조이며 객체이다 \n",
    "# 속성과 메소드를 갖는다\n",
    "print(type(a))\n",
    "\n",
    "# 차원의 수\n",
    "print(a.ndim)\n",
    "\n",
    "# 배열의 구조\n",
    "# 뒤에부터 X Y Z 순으로 생각하면 된다\n",
    "# data2 기준 (2,3,2) 이면 2개짜리 3개묶음이 2개 있다.\n",
    "print(a.shape)\n",
    "\n",
    "# 요소의 개수\n",
    "print(a.size)\n",
    "\n",
    "print(a.dtype)\n",
    "\n",
    "# 바이트 단위의 사이즈\n",
    "print(a.itemsize)"
   ]
  },
  {
   "cell_type": "code",
   "execution_count": 44,
   "id": "b1cd69de",
   "metadata": {},
   "outputs": [],
   "source": [
    "a = np.array([1,2,3])\n",
    "b = np.array([4,5,6])"
   ]
  },
  {
   "cell_type": "code",
   "execution_count": 45,
   "id": "d56c7aef",
   "metadata": {},
   "outputs": [
    {
     "data": {
      "text/plain": [
       "array([5, 7, 9])"
      ]
     },
     "execution_count": 45,
     "metadata": {},
     "output_type": "execute_result"
    }
   ],
   "source": [
    "a+b"
   ]
  },
  {
   "cell_type": "code",
   "execution_count": 46,
   "id": "02f27ebf",
   "metadata": {},
   "outputs": [],
   "source": [
    "# 차원이 달라도 계산 가능하다// 1차원의 개수가 같으면 가능\n",
    "a = np.array([[1,2,3],[1,2,3]])"
   ]
  },
  {
   "cell_type": "code",
   "execution_count": 47,
   "id": "b76bae0a",
   "metadata": {},
   "outputs": [
    {
     "data": {
      "text/plain": [
       "array([[5, 7, 9],\n",
       "       [5, 7, 9]])"
      ]
     },
     "execution_count": 47,
     "metadata": {},
     "output_type": "execute_result"
    }
   ],
   "source": [
    "a+b"
   ]
  },
  {
   "cell_type": "code",
   "execution_count": 48,
   "id": "43529ee1",
   "metadata": {},
   "outputs": [],
   "source": [
    "a = np.array([[1,2],[3,4]]) # 2 x 2 형태\n",
    "b = np.array([[10,20],[30,40]])"
   ]
  },
  {
   "cell_type": "code",
   "execution_count": 52,
   "id": "b1949f27",
   "metadata": {},
   "outputs": [
    {
     "name": "stdout",
     "output_type": "stream",
     "text": [
      "[[ 70 100]\n",
      " [150 220]]\n",
      "[[ 70 100]\n",
      " [150 220]]\n"
     ]
    }
   ],
   "source": [
    "# matmul 과 @는 같은 의미\n",
    "# 만일 하나는 int32 이고 하나는 int 64이면 계산시 int64가 된다\n",
    "print(np.matmul(a,b))\n",
    "print(a@b)"
   ]
  },
  {
   "cell_type": "code",
   "execution_count": 53,
   "id": "4f9579f2",
   "metadata": {},
   "outputs": [],
   "source": [
    "a = np.array([1,2,3,'a'])"
   ]
  },
  {
   "cell_type": "code",
   "execution_count": 54,
   "id": "86d6ca60",
   "metadata": {},
   "outputs": [
    {
     "name": "stdout",
     "output_type": "stream",
     "text": [
      "1\n",
      "4\n",
      "(4,)\n",
      "44\n"
     ]
    },
    {
     "ename": "AttributeError",
     "evalue": "'numpy.ndarray' object has no attribute 'type'",
     "output_type": "error",
     "traceback": [
      "\u001b[1;31m---------------------------------------------------------------------------\u001b[0m",
      "\u001b[1;31mAttributeError\u001b[0m                            Traceback (most recent call last)",
      "Input \u001b[1;32mIn [54]\u001b[0m, in \u001b[0;36m<cell line: 5>\u001b[1;34m()\u001b[0m\n\u001b[0;32m      3\u001b[0m \u001b[38;5;28mprint\u001b[39m(a\u001b[38;5;241m.\u001b[39mshape)\n\u001b[0;32m      4\u001b[0m \u001b[38;5;28mprint\u001b[39m(a\u001b[38;5;241m.\u001b[39mitemsize)\n\u001b[1;32m----> 5\u001b[0m \u001b[38;5;28mprint\u001b[39m(\u001b[43ma\u001b[49m\u001b[38;5;241;43m.\u001b[39;49m\u001b[43mtype\u001b[49m)\n",
      "\u001b[1;31mAttributeError\u001b[0m: 'numpy.ndarray' object has no attribute 'type'"
     ]
    }
   ],
   "source": [
    "print(a.ndim)\n",
    "print(a.size)\n",
    "print(a.shape)\n",
    "print(a.itemsize)\n",
    "print(a.type)"
   ]
  },
  {
   "cell_type": "code",
   "execution_count": null,
   "id": "cb3b317c",
   "metadata": {},
   "outputs": [],
   "source": []
  }
 ],
 "metadata": {
  "kernelspec": {
   "display_name": "Python 3 (ipykernel)",
   "language": "python",
   "name": "python3"
  },
  "language_info": {
   "codemirror_mode": {
    "name": "ipython",
    "version": 3
   },
   "file_extension": ".py",
   "mimetype": "text/x-python",
   "name": "python",
   "nbconvert_exporter": "python",
   "pygments_lexer": "ipython3",
   "version": "3.9.12"
  }
 },
 "nbformat": 4,
 "nbformat_minor": 5
}

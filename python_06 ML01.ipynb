{
 "cells": [
  {
   "cell_type": "raw",
   "id": "ae79d8ba",
   "metadata": {},
   "source": [
    "Machine Learning and AI  \n",
    "what is AI?  \n",
    "    A kind of function (input->output)  \n",
    "    함수를 만드는 과정이다.  \n",
    "    input(이미지,픽셀의 정보) -> 물체 구별(고양이/개)\n",
    "    \n",
    "sample = observation = sample = pattern -> 다 같은 의미\n",
    "variable, feature,factor -> 요소"
   ]
  },
  {
   "cell_type": "code",
   "execution_count": null,
   "id": "865852f1",
   "metadata": {},
   "outputs": [],
   "source": []
  }
 ],
 "metadata": {
  "kernelspec": {
   "display_name": "Python 3 (ipykernel)",
   "language": "python",
   "name": "python3"
  },
  "language_info": {
   "codemirror_mode": {
    "name": "ipython",
    "version": 3
   },
   "file_extension": ".py",
   "mimetype": "text/x-python",
   "name": "python",
   "nbconvert_exporter": "python",
   "pygments_lexer": "ipython3",
   "version": "3.9.12"
  }
 },
 "nbformat": 4,
 "nbformat_minor": 5
}

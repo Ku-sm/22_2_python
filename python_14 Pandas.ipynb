{
 "cells": [
  {
   "cell_type": "code",
   "execution_count": 74,
   "id": "5f58f61e",
   "metadata": {},
   "outputs": [],
   "source": [
    "import pandas as pd\n",
    "import numpy as np\n",
    "import os"
   ]
  },
  {
   "cell_type": "code",
   "execution_count": 29,
   "id": "766130b8",
   "metadata": {},
   "outputs": [
    {
     "data": {
      "text/html": [
       "<div>\n",
       "<style scoped>\n",
       "    .dataframe tbody tr th:only-of-type {\n",
       "        vertical-align: middle;\n",
       "    }\n",
       "\n",
       "    .dataframe tbody tr th {\n",
       "        vertical-align: top;\n",
       "    }\n",
       "\n",
       "    .dataframe thead th {\n",
       "        text-align: right;\n",
       "    }\n",
       "</style>\n",
       "<table border=\"1\" class=\"dataframe\">\n",
       "  <thead>\n",
       "    <tr style=\"text-align: right;\">\n",
       "      <th></th>\n",
       "      <th>이름</th>\n",
       "      <th>나이</th>\n",
       "      <th>성별</th>\n",
       "      <th>평점</th>\n",
       "    </tr>\n",
       "  </thead>\n",
       "  <tbody>\n",
       "    <tr>\n",
       "      <th>0</th>\n",
       "      <td>김수안</td>\n",
       "      <td>19</td>\n",
       "      <td>여</td>\n",
       "      <td>4.35</td>\n",
       "    </tr>\n",
       "    <tr>\n",
       "      <th>1</th>\n",
       "      <td>김수정</td>\n",
       "      <td>23</td>\n",
       "      <td>여</td>\n",
       "      <td>4.23</td>\n",
       "    </tr>\n",
       "    <tr>\n",
       "      <th>2</th>\n",
       "      <td>박동윤</td>\n",
       "      <td>22</td>\n",
       "      <td>남</td>\n",
       "      <td>4.45</td>\n",
       "    </tr>\n",
       "    <tr>\n",
       "      <th>3</th>\n",
       "      <td>강이안</td>\n",
       "      <td>19</td>\n",
       "      <td>여</td>\n",
       "      <td>4.37</td>\n",
       "    </tr>\n",
       "    <tr>\n",
       "      <th>4</th>\n",
       "      <td>강지안</td>\n",
       "      <td>16</td>\n",
       "      <td>남</td>\n",
       "      <td>4.25</td>\n",
       "    </tr>\n",
       "  </tbody>\n",
       "</table>\n",
       "</div>"
      ],
      "text/plain": [
       "    이름  나이 성별    평점\n",
       "0  김수안  19  여  4.35\n",
       "1  김수정  23  여  4.23\n",
       "2  박동윤  22  남  4.45\n",
       "3  강이안  19  여  4.37\n",
       "4  강지안  16  남  4.25"
      ]
     },
     "execution_count": 29,
     "metadata": {},
     "output_type": "execute_result"
    }
   ],
   "source": [
    "dic = {'이름':['김수안','김수정','박동윤','강이안','강지안'],\n",
    "       '나이':[19,23,22,19,16],\n",
    "       '성별':['여','여','남','여','남'],\n",
    "       '평점':[4.35,4.23,4.45,4.37,4.25]\n",
    "      }\n",
    "\n",
    "\n",
    "data = pd.DataFrame(dic)\n",
    "data"
   ]
  },
  {
   "cell_type": "code",
   "execution_count": 30,
   "id": "797ab22b",
   "metadata": {},
   "outputs": [],
   "source": [
    "data['연락처'] = [None,None,None,None,None]"
   ]
  },
  {
   "cell_type": "code",
   "execution_count": 31,
   "id": "e7ee42b7",
   "metadata": {
    "scrolled": true
   },
   "outputs": [
    {
     "data": {
      "text/plain": [
       "이름      True\n",
       "나이      True\n",
       "성별      True\n",
       "평점      True\n",
       "연락처    False\n",
       "dtype: bool"
      ]
     },
     "execution_count": 31,
     "metadata": {},
     "output_type": "execute_result"
    }
   ],
   "source": [
    "# 값이 하나라도 있는지 확인\n",
    "data.any(axis = 0)"
   ]
  },
  {
   "cell_type": "code",
   "execution_count": 32,
   "id": "459dffba",
   "metadata": {},
   "outputs": [
    {
     "data": {
      "text/plain": [
       "0    True\n",
       "1    True\n",
       "2    True\n",
       "3    True\n",
       "4    True\n",
       "dtype: bool"
      ]
     },
     "execution_count": 32,
     "metadata": {},
     "output_type": "execute_result"
    }
   ],
   "source": [
    "data.any(axis = 1)"
   ]
  },
  {
   "cell_type": "code",
   "execution_count": 33,
   "id": "17d17e3c",
   "metadata": {},
   "outputs": [
    {
     "name": "stdout",
     "output_type": "stream",
     "text": [
      "a    False\n",
      "dtype: bool\n",
      "a    True\n",
      "dtype: bool\n",
      "a    False\n",
      "dtype: bool\n",
      "a    True\n",
      "dtype: bool\n"
     ]
    }
   ],
   "source": [
    "a = pd.DataFrame({'a':[False,False,False,False,False]})\n",
    "b = pd.DataFrame({'a':[False,False,False,False,True]})\n",
    "c = pd.DataFrame({'a':[0,0,0,0]})\n",
    "d = pd.DataFrame({'a':[0,0,0,1]})\n",
    "\n",
    "print(a.any())\n",
    "print(b.any())\n",
    "print(c.any())\n",
    "print(d.any())"
   ]
  },
  {
   "cell_type": "code",
   "execution_count": 34,
   "id": "e6885bc3",
   "metadata": {},
   "outputs": [
    {
     "data": {
      "text/plain": [
       "이름     False\n",
       "나이     False\n",
       "성별     False\n",
       "평점     False\n",
       "연락처     True\n",
       "dtype: bool"
      ]
     },
     "execution_count": 34,
     "metadata": {},
     "output_type": "execute_result"
    }
   ],
   "source": [
    "# isna와 any를 활용 가능하다\n",
    "# 즉 전체 데이터의 변수 중에서\n",
    "# 전부 None값으로 구성되어있는 변수가 무엇인지 구분할 때 사용한다\n",
    "data.isna().any(axis=0)"
   ]
  },
  {
   "cell_type": "code",
   "execution_count": 35,
   "id": "f5a70762",
   "metadata": {},
   "outputs": [
    {
     "data": {
      "text/plain": [
       "이름     김수안김수정박동윤강이안강지안\n",
       "나이                  99\n",
       "성별               여여남여남\n",
       "평점               21.65\n",
       "연락처                  0\n",
       "dtype: object"
      ]
     },
     "execution_count": 35,
     "metadata": {},
     "output_type": "execute_result"
    }
   ],
   "source": [
    "# 정수형만 제대로 더해진다\n",
    "data.sum(axis = 0)"
   ]
  },
  {
   "cell_type": "code",
   "execution_count": 36,
   "id": "f12b857e",
   "metadata": {},
   "outputs": [
    {
     "data": {
      "text/plain": [
       "이름     0\n",
       "나이     0\n",
       "성별     0\n",
       "평점     0\n",
       "연락처    5\n",
       "dtype: int64"
      ]
     },
     "execution_count": 36,
     "metadata": {},
     "output_type": "execute_result"
    }
   ],
   "source": [
    "# 각 변수별로 None 값이 몇개인지 확인 가능하다.\n",
    "data.isna().sum()"
   ]
  },
  {
   "cell_type": "code",
   "execution_count": 37,
   "id": "e2dd3854",
   "metadata": {},
   "outputs": [
    {
     "data": {
      "text/html": [
       "<div>\n",
       "<style scoped>\n",
       "    .dataframe tbody tr th:only-of-type {\n",
       "        vertical-align: middle;\n",
       "    }\n",
       "\n",
       "    .dataframe tbody tr th {\n",
       "        vertical-align: top;\n",
       "    }\n",
       "\n",
       "    .dataframe thead th {\n",
       "        text-align: right;\n",
       "    }\n",
       "</style>\n",
       "<table border=\"1\" class=\"dataframe\">\n",
       "  <thead>\n",
       "    <tr style=\"text-align: right;\">\n",
       "      <th></th>\n",
       "      <th>이름</th>\n",
       "      <th>나이</th>\n",
       "      <th>성별</th>\n",
       "      <th>평점</th>\n",
       "      <th>연락처</th>\n",
       "    </tr>\n",
       "  </thead>\n",
       "  <tbody>\n",
       "  </tbody>\n",
       "</table>\n",
       "</div>"
      ],
      "text/plain": [
       "Empty DataFrame\n",
       "Columns: [이름, 나이, 성별, 평점, 연락처]\n",
       "Index: []"
      ]
     },
     "execution_count": 37,
     "metadata": {},
     "output_type": "execute_result"
    }
   ],
   "source": [
    "# how='any'  빈 데이터가 행 관점에서 하나라도 있으면 없앤다\n",
    "# 즉 모든 데이터가 빈 데이터를 가지므로 다 삭제가 된다.\n",
    "data.dropna(axis=0,how='any')"
   ]
  },
  {
   "cell_type": "code",
   "execution_count": 38,
   "id": "871950c6",
   "metadata": {},
   "outputs": [
    {
     "data": {
      "text/html": [
       "<div>\n",
       "<style scoped>\n",
       "    .dataframe tbody tr th:only-of-type {\n",
       "        vertical-align: middle;\n",
       "    }\n",
       "\n",
       "    .dataframe tbody tr th {\n",
       "        vertical-align: top;\n",
       "    }\n",
       "\n",
       "    .dataframe thead th {\n",
       "        text-align: right;\n",
       "    }\n",
       "</style>\n",
       "<table border=\"1\" class=\"dataframe\">\n",
       "  <thead>\n",
       "    <tr style=\"text-align: right;\">\n",
       "      <th></th>\n",
       "      <th>이름</th>\n",
       "      <th>나이</th>\n",
       "      <th>성별</th>\n",
       "      <th>평점</th>\n",
       "    </tr>\n",
       "  </thead>\n",
       "  <tbody>\n",
       "    <tr>\n",
       "      <th>0</th>\n",
       "      <td>김수안</td>\n",
       "      <td>19</td>\n",
       "      <td>여</td>\n",
       "      <td>4.35</td>\n",
       "    </tr>\n",
       "    <tr>\n",
       "      <th>1</th>\n",
       "      <td>김수정</td>\n",
       "      <td>23</td>\n",
       "      <td>여</td>\n",
       "      <td>4.23</td>\n",
       "    </tr>\n",
       "    <tr>\n",
       "      <th>2</th>\n",
       "      <td>박동윤</td>\n",
       "      <td>22</td>\n",
       "      <td>남</td>\n",
       "      <td>4.45</td>\n",
       "    </tr>\n",
       "    <tr>\n",
       "      <th>3</th>\n",
       "      <td>강이안</td>\n",
       "      <td>19</td>\n",
       "      <td>여</td>\n",
       "      <td>4.37</td>\n",
       "    </tr>\n",
       "    <tr>\n",
       "      <th>4</th>\n",
       "      <td>강지안</td>\n",
       "      <td>16</td>\n",
       "      <td>남</td>\n",
       "      <td>4.25</td>\n",
       "    </tr>\n",
       "  </tbody>\n",
       "</table>\n",
       "</div>"
      ],
      "text/plain": [
       "    이름  나이 성별    평점\n",
       "0  김수안  19  여  4.35\n",
       "1  김수정  23  여  4.23\n",
       "2  박동윤  22  남  4.45\n",
       "3  강이안  19  여  4.37\n",
       "4  강지안  16  남  4.25"
      ]
     },
     "execution_count": 38,
     "metadata": {},
     "output_type": "execute_result"
    }
   ],
   "source": [
    "# how='any'  빈 데이터가 열 관점에서 하나라도 있으면 없앤다\n",
    "# 즉 빈데이터가 있는 변수를 없앤다. \n",
    "# 실제 저장하려면 inplace = True로 하면 된다\n",
    "data.dropna(axis=1,how='any')"
   ]
  },
  {
   "cell_type": "code",
   "execution_count": 39,
   "id": "a009dd7d",
   "metadata": {},
   "outputs": [
    {
     "data": {
      "text/html": [
       "<div>\n",
       "<style scoped>\n",
       "    .dataframe tbody tr th:only-of-type {\n",
       "        vertical-align: middle;\n",
       "    }\n",
       "\n",
       "    .dataframe tbody tr th {\n",
       "        vertical-align: top;\n",
       "    }\n",
       "\n",
       "    .dataframe thead th {\n",
       "        text-align: right;\n",
       "    }\n",
       "</style>\n",
       "<table border=\"1\" class=\"dataframe\">\n",
       "  <thead>\n",
       "    <tr style=\"text-align: right;\">\n",
       "      <th></th>\n",
       "      <th>이름</th>\n",
       "      <th>나이</th>\n",
       "      <th>성별</th>\n",
       "      <th>평점</th>\n",
       "      <th>연락처</th>\n",
       "    </tr>\n",
       "  </thead>\n",
       "  <tbody>\n",
       "    <tr>\n",
       "      <th>0</th>\n",
       "      <td>김수안</td>\n",
       "      <td>19</td>\n",
       "      <td>여</td>\n",
       "      <td>4.35</td>\n",
       "      <td>None</td>\n",
       "    </tr>\n",
       "    <tr>\n",
       "      <th>1</th>\n",
       "      <td>김수정</td>\n",
       "      <td>23</td>\n",
       "      <td>여</td>\n",
       "      <td>4.23</td>\n",
       "      <td>None</td>\n",
       "    </tr>\n",
       "    <tr>\n",
       "      <th>2</th>\n",
       "      <td>박동윤</td>\n",
       "      <td>22</td>\n",
       "      <td>남</td>\n",
       "      <td>4.45</td>\n",
       "      <td>None</td>\n",
       "    </tr>\n",
       "    <tr>\n",
       "      <th>3</th>\n",
       "      <td>강이안</td>\n",
       "      <td>19</td>\n",
       "      <td>여</td>\n",
       "      <td>4.37</td>\n",
       "      <td>None</td>\n",
       "    </tr>\n",
       "    <tr>\n",
       "      <th>4</th>\n",
       "      <td>강지안</td>\n",
       "      <td>16</td>\n",
       "      <td>남</td>\n",
       "      <td>4.25</td>\n",
       "      <td>None</td>\n",
       "    </tr>\n",
       "  </tbody>\n",
       "</table>\n",
       "</div>"
      ],
      "text/plain": [
       "    이름  나이 성별    평점   연락처\n",
       "0  김수안  19  여  4.35  None\n",
       "1  김수정  23  여  4.23  None\n",
       "2  박동윤  22  남  4.45  None\n",
       "3  강이안  19  여  4.37  None\n",
       "4  강지안  16  남  4.25  None"
      ]
     },
     "execution_count": 39,
     "metadata": {},
     "output_type": "execute_result"
    }
   ],
   "source": [
    "# 행의 모든 데이터가 None일때 삭제\n",
    "data.dropna(axis=0,how='all')"
   ]
  },
  {
   "cell_type": "code",
   "execution_count": 40,
   "id": "62110c50",
   "metadata": {},
   "outputs": [
    {
     "data": {
      "text/html": [
       "<div>\n",
       "<style scoped>\n",
       "    .dataframe tbody tr th:only-of-type {\n",
       "        vertical-align: middle;\n",
       "    }\n",
       "\n",
       "    .dataframe tbody tr th {\n",
       "        vertical-align: top;\n",
       "    }\n",
       "\n",
       "    .dataframe thead th {\n",
       "        text-align: right;\n",
       "    }\n",
       "</style>\n",
       "<table border=\"1\" class=\"dataframe\">\n",
       "  <thead>\n",
       "    <tr style=\"text-align: right;\">\n",
       "      <th></th>\n",
       "      <th>이름</th>\n",
       "      <th>나이</th>\n",
       "      <th>성별</th>\n",
       "      <th>평점</th>\n",
       "    </tr>\n",
       "  </thead>\n",
       "  <tbody>\n",
       "    <tr>\n",
       "      <th>0</th>\n",
       "      <td>김수안</td>\n",
       "      <td>19</td>\n",
       "      <td>여</td>\n",
       "      <td>4.35</td>\n",
       "    </tr>\n",
       "    <tr>\n",
       "      <th>1</th>\n",
       "      <td>김수정</td>\n",
       "      <td>23</td>\n",
       "      <td>여</td>\n",
       "      <td>4.23</td>\n",
       "    </tr>\n",
       "    <tr>\n",
       "      <th>2</th>\n",
       "      <td>박동윤</td>\n",
       "      <td>22</td>\n",
       "      <td>남</td>\n",
       "      <td>4.45</td>\n",
       "    </tr>\n",
       "    <tr>\n",
       "      <th>3</th>\n",
       "      <td>강이안</td>\n",
       "      <td>19</td>\n",
       "      <td>여</td>\n",
       "      <td>4.37</td>\n",
       "    </tr>\n",
       "    <tr>\n",
       "      <th>4</th>\n",
       "      <td>강지안</td>\n",
       "      <td>16</td>\n",
       "      <td>남</td>\n",
       "      <td>4.25</td>\n",
       "    </tr>\n",
       "  </tbody>\n",
       "</table>\n",
       "</div>"
      ],
      "text/plain": [
       "    이름  나이 성별    평점\n",
       "0  김수안  19  여  4.35\n",
       "1  김수정  23  여  4.23\n",
       "2  박동윤  22  남  4.45\n",
       "3  강이안  19  여  4.37\n",
       "4  강지안  16  남  4.25"
      ]
     },
     "execution_count": 40,
     "metadata": {},
     "output_type": "execute_result"
    }
   ],
   "source": [
    "# 열의 모든 데이터가 None일때 삭제\n",
    "data.dropna(axis=1,how='all')"
   ]
  },
  {
   "cell_type": "code",
   "execution_count": 41,
   "id": "aa1d42de",
   "metadata": {},
   "outputs": [],
   "source": [
    "data.loc[5] = ['박성호',20,'남',4.5,'010-xxxx-xxxx']"
   ]
  },
  {
   "cell_type": "code",
   "execution_count": 43,
   "id": "e6e00695",
   "metadata": {},
   "outputs": [
    {
     "data": {
      "text/html": [
       "<div>\n",
       "<style scoped>\n",
       "    .dataframe tbody tr th:only-of-type {\n",
       "        vertical-align: middle;\n",
       "    }\n",
       "\n",
       "    .dataframe tbody tr th {\n",
       "        vertical-align: top;\n",
       "    }\n",
       "\n",
       "    .dataframe thead th {\n",
       "        text-align: right;\n",
       "    }\n",
       "</style>\n",
       "<table border=\"1\" class=\"dataframe\">\n",
       "  <thead>\n",
       "    <tr style=\"text-align: right;\">\n",
       "      <th></th>\n",
       "      <th>이름</th>\n",
       "      <th>나이</th>\n",
       "      <th>성별</th>\n",
       "      <th>평점</th>\n",
       "      <th>연락처</th>\n",
       "    </tr>\n",
       "  </thead>\n",
       "  <tbody>\n",
       "    <tr>\n",
       "      <th>0</th>\n",
       "      <td>김수안</td>\n",
       "      <td>19</td>\n",
       "      <td>여</td>\n",
       "      <td>4.35</td>\n",
       "      <td>None</td>\n",
       "    </tr>\n",
       "    <tr>\n",
       "      <th>1</th>\n",
       "      <td>김수정</td>\n",
       "      <td>23</td>\n",
       "      <td>여</td>\n",
       "      <td>4.23</td>\n",
       "      <td>None</td>\n",
       "    </tr>\n",
       "    <tr>\n",
       "      <th>2</th>\n",
       "      <td>박동윤</td>\n",
       "      <td>22</td>\n",
       "      <td>남</td>\n",
       "      <td>4.45</td>\n",
       "      <td>None</td>\n",
       "    </tr>\n",
       "    <tr>\n",
       "      <th>3</th>\n",
       "      <td>강이안</td>\n",
       "      <td>19</td>\n",
       "      <td>여</td>\n",
       "      <td>4.37</td>\n",
       "      <td>None</td>\n",
       "    </tr>\n",
       "    <tr>\n",
       "      <th>4</th>\n",
       "      <td>강지안</td>\n",
       "      <td>16</td>\n",
       "      <td>남</td>\n",
       "      <td>4.25</td>\n",
       "      <td>None</td>\n",
       "    </tr>\n",
       "    <tr>\n",
       "      <th>5</th>\n",
       "      <td>박성호</td>\n",
       "      <td>20</td>\n",
       "      <td>남</td>\n",
       "      <td>4.50</td>\n",
       "      <td>010-xxxx-xxxx</td>\n",
       "    </tr>\n",
       "  </tbody>\n",
       "</table>\n",
       "</div>"
      ],
      "text/plain": [
       "    이름  나이 성별    평점            연락처\n",
       "0  김수안  19  여  4.35           None\n",
       "1  김수정  23  여  4.23           None\n",
       "2  박동윤  22  남  4.45           None\n",
       "3  강이안  19  여  4.37           None\n",
       "4  강지안  16  남  4.25           None\n",
       "5  박성호  20  남  4.50  010-xxxx-xxxx"
      ]
     },
     "execution_count": 43,
     "metadata": {},
     "output_type": "execute_result"
    }
   ],
   "source": [
    "# 열의 모든 데이터가 None일때 삭제\n",
    "data.dropna(axis=1,how='all')"
   ]
  },
  {
   "cell_type": "code",
   "execution_count": 46,
   "id": "9755de66",
   "metadata": {},
   "outputs": [
    {
     "data": {
      "text/html": [
       "<div>\n",
       "<style scoped>\n",
       "    .dataframe tbody tr th:only-of-type {\n",
       "        vertical-align: middle;\n",
       "    }\n",
       "\n",
       "    .dataframe tbody tr th {\n",
       "        vertical-align: top;\n",
       "    }\n",
       "\n",
       "    .dataframe thead th {\n",
       "        text-align: right;\n",
       "    }\n",
       "</style>\n",
       "<table border=\"1\" class=\"dataframe\">\n",
       "  <thead>\n",
       "    <tr style=\"text-align: right;\">\n",
       "      <th></th>\n",
       "      <th>이름</th>\n",
       "      <th>나이</th>\n",
       "      <th>성별</th>\n",
       "      <th>평점</th>\n",
       "      <th>연락처</th>\n",
       "    </tr>\n",
       "  </thead>\n",
       "  <tbody>\n",
       "    <tr>\n",
       "      <th>0</th>\n",
       "      <td>김수안</td>\n",
       "      <td>19</td>\n",
       "      <td>여</td>\n",
       "      <td>4.35</td>\n",
       "      <td>없음</td>\n",
       "    </tr>\n",
       "    <tr>\n",
       "      <th>1</th>\n",
       "      <td>김수정</td>\n",
       "      <td>23</td>\n",
       "      <td>여</td>\n",
       "      <td>4.23</td>\n",
       "      <td>없음</td>\n",
       "    </tr>\n",
       "    <tr>\n",
       "      <th>2</th>\n",
       "      <td>박동윤</td>\n",
       "      <td>22</td>\n",
       "      <td>남</td>\n",
       "      <td>4.45</td>\n",
       "      <td>없음</td>\n",
       "    </tr>\n",
       "    <tr>\n",
       "      <th>3</th>\n",
       "      <td>강이안</td>\n",
       "      <td>19</td>\n",
       "      <td>여</td>\n",
       "      <td>4.37</td>\n",
       "      <td>없음</td>\n",
       "    </tr>\n",
       "    <tr>\n",
       "      <th>4</th>\n",
       "      <td>강지안</td>\n",
       "      <td>16</td>\n",
       "      <td>남</td>\n",
       "      <td>4.25</td>\n",
       "      <td>없음</td>\n",
       "    </tr>\n",
       "    <tr>\n",
       "      <th>5</th>\n",
       "      <td>박성호</td>\n",
       "      <td>20</td>\n",
       "      <td>남</td>\n",
       "      <td>4.50</td>\n",
       "      <td>010-xxxx-xxxx</td>\n",
       "    </tr>\n",
       "  </tbody>\n",
       "</table>\n",
       "</div>"
      ],
      "text/plain": [
       "    이름  나이 성별    평점            연락처\n",
       "0  김수안  19  여  4.35             없음\n",
       "1  김수정  23  여  4.23             없음\n",
       "2  박동윤  22  남  4.45             없음\n",
       "3  강이안  19  여  4.37             없음\n",
       "4  강지안  16  남  4.25             없음\n",
       "5  박성호  20  남  4.50  010-xxxx-xxxx"
      ]
     },
     "execution_count": 46,
     "metadata": {},
     "output_type": "execute_result"
    }
   ],
   "source": [
    "# 값이 없을 때 값을 넣는 함수\n",
    "data.fillna(value='없음')"
   ]
  },
  {
   "cell_type": "code",
   "execution_count": 48,
   "id": "3d75b58c",
   "metadata": {},
   "outputs": [
    {
     "data": {
      "text/html": [
       "<div>\n",
       "<style scoped>\n",
       "    .dataframe tbody tr th:only-of-type {\n",
       "        vertical-align: middle;\n",
       "    }\n",
       "\n",
       "    .dataframe tbody tr th {\n",
       "        vertical-align: top;\n",
       "    }\n",
       "\n",
       "    .dataframe thead th {\n",
       "        text-align: right;\n",
       "    }\n",
       "</style>\n",
       "<table border=\"1\" class=\"dataframe\">\n",
       "  <thead>\n",
       "    <tr style=\"text-align: right;\">\n",
       "      <th></th>\n",
       "      <th>이름</th>\n",
       "      <th>나이</th>\n",
       "      <th>성별</th>\n",
       "      <th>평점</th>\n",
       "      <th>연락처</th>\n",
       "    </tr>\n",
       "  </thead>\n",
       "  <tbody>\n",
       "    <tr>\n",
       "      <th>0</th>\n",
       "      <td>김수안</td>\n",
       "      <td>19</td>\n",
       "      <td>여</td>\n",
       "      <td>4.35</td>\n",
       "      <td>010-xxxx-xxxx</td>\n",
       "    </tr>\n",
       "    <tr>\n",
       "      <th>1</th>\n",
       "      <td>김수정</td>\n",
       "      <td>23</td>\n",
       "      <td>여</td>\n",
       "      <td>4.23</td>\n",
       "      <td>010-xxxx-xxxx</td>\n",
       "    </tr>\n",
       "    <tr>\n",
       "      <th>2</th>\n",
       "      <td>박동윤</td>\n",
       "      <td>22</td>\n",
       "      <td>남</td>\n",
       "      <td>4.45</td>\n",
       "      <td>010-xxxx-xxxx</td>\n",
       "    </tr>\n",
       "    <tr>\n",
       "      <th>3</th>\n",
       "      <td>강이안</td>\n",
       "      <td>19</td>\n",
       "      <td>여</td>\n",
       "      <td>4.37</td>\n",
       "      <td>010-xxxx-xxxx</td>\n",
       "    </tr>\n",
       "    <tr>\n",
       "      <th>4</th>\n",
       "      <td>강지안</td>\n",
       "      <td>16</td>\n",
       "      <td>남</td>\n",
       "      <td>4.25</td>\n",
       "      <td>010-xxxx-xxxx</td>\n",
       "    </tr>\n",
       "    <tr>\n",
       "      <th>5</th>\n",
       "      <td>박성호</td>\n",
       "      <td>20</td>\n",
       "      <td>남</td>\n",
       "      <td>4.50</td>\n",
       "      <td>010-xxxx-xxxx</td>\n",
       "    </tr>\n",
       "  </tbody>\n",
       "</table>\n",
       "</div>"
      ],
      "text/plain": [
       "    이름  나이 성별    평점            연락처\n",
       "0  김수안  19  여  4.35  010-xxxx-xxxx\n",
       "1  김수정  23  여  4.23  010-xxxx-xxxx\n",
       "2  박동윤  22  남  4.45  010-xxxx-xxxx\n",
       "3  강이안  19  여  4.37  010-xxxx-xxxx\n",
       "4  강지안  16  남  4.25  010-xxxx-xxxx\n",
       "5  박성호  20  남  4.50  010-xxxx-xxxx"
      ]
     },
     "execution_count": 48,
     "metadata": {},
     "output_type": "execute_result"
    }
   ],
   "source": [
    "# 맨 마지막 데이터로 채워 넣는다\n",
    "data.fillna(method='backfill')"
   ]
  },
  {
   "cell_type": "code",
   "execution_count": 60,
   "id": "3e8fb585",
   "metadata": {},
   "outputs": [],
   "source": [
    "data2 = data[['나이','평점']]"
   ]
  },
  {
   "cell_type": "code",
   "execution_count": 61,
   "id": "dfbfc386",
   "metadata": {},
   "outputs": [
    {
     "data": {
      "text/plain": [
       "나이    119.00\n",
       "평점     26.15\n",
       "dtype: float64"
      ]
     },
     "execution_count": 61,
     "metadata": {},
     "output_type": "execute_result"
    }
   ],
   "source": [
    "data2.sum()"
   ]
  },
  {
   "cell_type": "code",
   "execution_count": 62,
   "id": "03f05a1f",
   "metadata": {},
   "outputs": [
    {
     "data": {
      "text/plain": [
       "0    23.35\n",
       "1    27.23\n",
       "2    26.45\n",
       "3    23.37\n",
       "4    20.25\n",
       "5    24.50\n",
       "dtype: float64"
      ]
     },
     "execution_count": 62,
     "metadata": {},
     "output_type": "execute_result"
    }
   ],
   "source": [
    "data2.sum(axis=1)"
   ]
  },
  {
   "cell_type": "code",
   "execution_count": 64,
   "id": "a1901ce8",
   "metadata": {},
   "outputs": [
    {
     "data": {
      "text/plain": [
       "나이    19.833333\n",
       "평점     4.358333\n",
       "dtype: float64"
      ]
     },
     "execution_count": 64,
     "metadata": {},
     "output_type": "execute_result"
    }
   ],
   "source": [
    "# axis로 방향 설정 가능\n",
    "# str / var / max / min / median 도 사용 가능\n",
    "data2.mean()"
   ]
  },
  {
   "cell_type": "code",
   "execution_count": 67,
   "id": "95694cae",
   "metadata": {},
   "outputs": [
    {
     "data": {
      "text/html": [
       "<div>\n",
       "<style scoped>\n",
       "    .dataframe tbody tr th:only-of-type {\n",
       "        vertical-align: middle;\n",
       "    }\n",
       "\n",
       "    .dataframe tbody tr th {\n",
       "        vertical-align: top;\n",
       "    }\n",
       "\n",
       "    .dataframe thead th {\n",
       "        text-align: right;\n",
       "    }\n",
       "</style>\n",
       "<table border=\"1\" class=\"dataframe\">\n",
       "  <thead>\n",
       "    <tr style=\"text-align: right;\">\n",
       "      <th></th>\n",
       "      <th>나이</th>\n",
       "      <th>평점</th>\n",
       "    </tr>\n",
       "  </thead>\n",
       "  <tbody>\n",
       "    <tr>\n",
       "      <th>count</th>\n",
       "      <td>6.000000</td>\n",
       "      <td>6.000000</td>\n",
       "    </tr>\n",
       "    <tr>\n",
       "      <th>mean</th>\n",
       "      <td>19.833333</td>\n",
       "      <td>4.358333</td>\n",
       "    </tr>\n",
       "    <tr>\n",
       "      <th>std</th>\n",
       "      <td>2.483277</td>\n",
       "      <td>0.106661</td>\n",
       "    </tr>\n",
       "    <tr>\n",
       "      <th>min</th>\n",
       "      <td>16.000000</td>\n",
       "      <td>4.230000</td>\n",
       "    </tr>\n",
       "    <tr>\n",
       "      <th>25%</th>\n",
       "      <td>19.000000</td>\n",
       "      <td>4.275000</td>\n",
       "    </tr>\n",
       "    <tr>\n",
       "      <th>50%</th>\n",
       "      <td>19.500000</td>\n",
       "      <td>4.360000</td>\n",
       "    </tr>\n",
       "    <tr>\n",
       "      <th>75%</th>\n",
       "      <td>21.500000</td>\n",
       "      <td>4.430000</td>\n",
       "    </tr>\n",
       "    <tr>\n",
       "      <th>max</th>\n",
       "      <td>23.000000</td>\n",
       "      <td>4.500000</td>\n",
       "    </tr>\n",
       "  </tbody>\n",
       "</table>\n",
       "</div>"
      ],
      "text/plain": [
       "              나이        평점\n",
       "count   6.000000  6.000000\n",
       "mean   19.833333  4.358333\n",
       "std     2.483277  0.106661\n",
       "min    16.000000  4.230000\n",
       "25%    19.000000  4.275000\n",
       "50%    19.500000  4.360000\n",
       "75%    21.500000  4.430000\n",
       "max    23.000000  4.500000"
      ]
     },
     "execution_count": 67,
     "metadata": {},
     "output_type": "execute_result"
    }
   ],
   "source": [
    "# 한번에 계산해주는 함수 축 설정 불가능\n",
    "data2.describe()"
   ]
  },
  {
   "cell_type": "code",
   "execution_count": 68,
   "id": "8378aaca",
   "metadata": {},
   "outputs": [
    {
     "data": {
      "text/html": [
       "<div>\n",
       "<style scoped>\n",
       "    .dataframe tbody tr th:only-of-type {\n",
       "        vertical-align: middle;\n",
       "    }\n",
       "\n",
       "    .dataframe tbody tr th {\n",
       "        vertical-align: top;\n",
       "    }\n",
       "\n",
       "    .dataframe thead th {\n",
       "        text-align: right;\n",
       "    }\n",
       "</style>\n",
       "<table border=\"1\" class=\"dataframe\">\n",
       "  <thead>\n",
       "    <tr style=\"text-align: right;\">\n",
       "      <th></th>\n",
       "      <th>이름</th>\n",
       "      <th>나이</th>\n",
       "      <th>성별</th>\n",
       "      <th>평점</th>\n",
       "      <th>연락처</th>\n",
       "    </tr>\n",
       "  </thead>\n",
       "  <tbody>\n",
       "    <tr>\n",
       "      <th>0</th>\n",
       "      <td>김수안</td>\n",
       "      <td>19</td>\n",
       "      <td>여</td>\n",
       "      <td>4.35</td>\n",
       "      <td>None</td>\n",
       "    </tr>\n",
       "    <tr>\n",
       "      <th>1</th>\n",
       "      <td>김수정</td>\n",
       "      <td>23</td>\n",
       "      <td>여</td>\n",
       "      <td>4.23</td>\n",
       "      <td>None</td>\n",
       "    </tr>\n",
       "    <tr>\n",
       "      <th>2</th>\n",
       "      <td>박동윤</td>\n",
       "      <td>22</td>\n",
       "      <td>남</td>\n",
       "      <td>4.45</td>\n",
       "      <td>None</td>\n",
       "    </tr>\n",
       "  </tbody>\n",
       "</table>\n",
       "</div>"
      ],
      "text/plain": [
       "    이름  나이 성별    평점   연락처\n",
       "0  김수안  19  여  4.35  None\n",
       "1  김수정  23  여  4.23  None\n",
       "2  박동윤  22  남  4.45  None"
      ]
     },
     "execution_count": 68,
     "metadata": {},
     "output_type": "execute_result"
    }
   ],
   "source": [
    "# 위에서 몇개만 보기\n",
    "data.head(3)"
   ]
  },
  {
   "cell_type": "code",
   "execution_count": 76,
   "id": "650a3f7a",
   "metadata": {},
   "outputs": [],
   "source": [
    "file_path = r'C:\\Users\\tndah\\Desktop\\대학교\\22년 2학년 2학기\\파이썬\\ToyotaCorolla (1).txt'"
   ]
  },
  {
   "cell_type": "code",
   "execution_count": 80,
   "id": "3519875b",
   "metadata": {},
   "outputs": [
    {
     "data": {
      "text/html": [
       "<div>\n",
       "<style scoped>\n",
       "    .dataframe tbody tr th:only-of-type {\n",
       "        vertical-align: middle;\n",
       "    }\n",
       "\n",
       "    .dataframe tbody tr th {\n",
       "        vertical-align: top;\n",
       "    }\n",
       "\n",
       "    .dataframe thead th {\n",
       "        text-align: right;\n",
       "    }\n",
       "</style>\n",
       "<table border=\"1\" class=\"dataframe\">\n",
       "  <thead>\n",
       "    <tr style=\"text-align: right;\">\n",
       "      <th></th>\n",
       "      <th>Id</th>\n",
       "      <th>Price</th>\n",
       "      <th>Age_08_04</th>\n",
       "      <th>KM</th>\n",
       "      <th>cc</th>\n",
       "      <th>Doors</th>\n",
       "      <th>Weight</th>\n",
       "    </tr>\n",
       "  </thead>\n",
       "  <tbody>\n",
       "    <tr>\n",
       "      <th>0</th>\n",
       "      <td>1</td>\n",
       "      <td>13500</td>\n",
       "      <td>23</td>\n",
       "      <td>46986</td>\n",
       "      <td>2000</td>\n",
       "      <td>3</td>\n",
       "      <td>1165</td>\n",
       "    </tr>\n",
       "    <tr>\n",
       "      <th>1</th>\n",
       "      <td>2</td>\n",
       "      <td>13750</td>\n",
       "      <td>23</td>\n",
       "      <td>72937</td>\n",
       "      <td>2000</td>\n",
       "      <td>3</td>\n",
       "      <td>1165</td>\n",
       "    </tr>\n",
       "    <tr>\n",
       "      <th>2</th>\n",
       "      <td>3</td>\n",
       "      <td>13950</td>\n",
       "      <td>24</td>\n",
       "      <td>41711</td>\n",
       "      <td>2000</td>\n",
       "      <td>3</td>\n",
       "      <td>1165</td>\n",
       "    </tr>\n",
       "    <tr>\n",
       "      <th>3</th>\n",
       "      <td>4</td>\n",
       "      <td>14950</td>\n",
       "      <td>26</td>\n",
       "      <td>48000</td>\n",
       "      <td>2000</td>\n",
       "      <td>3</td>\n",
       "      <td>1165</td>\n",
       "    </tr>\n",
       "    <tr>\n",
       "      <th>4</th>\n",
       "      <td>5</td>\n",
       "      <td>13750</td>\n",
       "      <td>30</td>\n",
       "      <td>38500</td>\n",
       "      <td>2000</td>\n",
       "      <td>3</td>\n",
       "      <td>1170</td>\n",
       "    </tr>\n",
       "    <tr>\n",
       "      <th>...</th>\n",
       "      <td>...</td>\n",
       "      <td>...</td>\n",
       "      <td>...</td>\n",
       "      <td>...</td>\n",
       "      <td>...</td>\n",
       "      <td>...</td>\n",
       "      <td>...</td>\n",
       "    </tr>\n",
       "    <tr>\n",
       "      <th>1431</th>\n",
       "      <td>1438</td>\n",
       "      <td>7500</td>\n",
       "      <td>69</td>\n",
       "      <td>20544</td>\n",
       "      <td>1300</td>\n",
       "      <td>3</td>\n",
       "      <td>1025</td>\n",
       "    </tr>\n",
       "    <tr>\n",
       "      <th>1432</th>\n",
       "      <td>1439</td>\n",
       "      <td>10845</td>\n",
       "      <td>72</td>\n",
       "      <td>19000</td>\n",
       "      <td>1300</td>\n",
       "      <td>3</td>\n",
       "      <td>1015</td>\n",
       "    </tr>\n",
       "    <tr>\n",
       "      <th>1433</th>\n",
       "      <td>1440</td>\n",
       "      <td>8500</td>\n",
       "      <td>71</td>\n",
       "      <td>17016</td>\n",
       "      <td>1300</td>\n",
       "      <td>3</td>\n",
       "      <td>1015</td>\n",
       "    </tr>\n",
       "    <tr>\n",
       "      <th>1434</th>\n",
       "      <td>1441</td>\n",
       "      <td>7250</td>\n",
       "      <td>70</td>\n",
       "      <td>16916</td>\n",
       "      <td>1300</td>\n",
       "      <td>3</td>\n",
       "      <td>1015</td>\n",
       "    </tr>\n",
       "    <tr>\n",
       "      <th>1435</th>\n",
       "      <td>1442</td>\n",
       "      <td>6950</td>\n",
       "      <td>76</td>\n",
       "      <td>1</td>\n",
       "      <td>1600</td>\n",
       "      <td>5</td>\n",
       "      <td>1114</td>\n",
       "    </tr>\n",
       "  </tbody>\n",
       "</table>\n",
       "<p>1436 rows × 7 columns</p>\n",
       "</div>"
      ],
      "text/plain": [
       "        Id  Price  Age_08_04     KM    cc  Doors  Weight\n",
       "0        1  13500         23  46986  2000      3    1165\n",
       "1        2  13750         23  72937  2000      3    1165\n",
       "2        3  13950         24  41711  2000      3    1165\n",
       "3        4  14950         26  48000  2000      3    1165\n",
       "4        5  13750         30  38500  2000      3    1170\n",
       "...    ...    ...        ...    ...   ...    ...     ...\n",
       "1431  1438   7500         69  20544  1300      3    1025\n",
       "1432  1439  10845         72  19000  1300      3    1015\n",
       "1433  1440   8500         71  17016  1300      3    1015\n",
       "1434  1441   7250         70  16916  1300      3    1015\n",
       "1435  1442   6950         76      1  1600      5    1114\n",
       "\n",
       "[1436 rows x 7 columns]"
      ]
     },
     "execution_count": 80,
     "metadata": {},
     "output_type": "execute_result"
    }
   ],
   "source": [
    "# \\t로 구분\n",
    "# csv파일은 ,로 되어있으므로 ,로 구분해야한다.\n",
    "# read_csv 함수도 존재\n",
    "dataset = pd.read_table(file_path,sep='\\t')\n",
    "dataset"
   ]
  },
  {
   "cell_type": "code",
   "execution_count": 81,
   "id": "9dced38f",
   "metadata": {},
   "outputs": [],
   "source": [
    "# csv파일 쓰기는 데이터.to_csv('경로') 로 파일 생성 가능하다"
   ]
  },
  {
   "cell_type": "code",
   "execution_count": null,
   "id": "e43e7be4",
   "metadata": {},
   "outputs": [],
   "source": []
  }
 ],
 "metadata": {
  "kernelspec": {
   "display_name": "Python 3 (ipykernel)",
   "language": "python",
   "name": "python3"
  },
  "language_info": {
   "codemirror_mode": {
    "name": "ipython",
    "version": 3
   },
   "file_extension": ".py",
   "mimetype": "text/x-python",
   "name": "python",
   "nbconvert_exporter": "python",
   "pygments_lexer": "ipython3",
   "version": "3.9.12"
  }
 },
 "nbformat": 4,
 "nbformat_minor": 5
}

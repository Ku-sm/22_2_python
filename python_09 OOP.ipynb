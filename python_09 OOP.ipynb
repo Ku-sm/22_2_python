{
 "cells": [
  {
   "cell_type": "markdown",
   "id": "5a8a1673",
   "metadata": {},
   "source": [
    "문자열도 객체로 표현된다. 속성: 소문자,대문자,알파벳,.... 행동:대문자변환,..."
   ]
  },
  {
   "cell_type": "code",
   "execution_count": 17,
   "id": "29d730c9",
   "metadata": {},
   "outputs": [],
   "source": [
    "class Cat:\n",
    "    pass"
   ]
  },
  {
   "cell_type": "code",
   "execution_count": 18,
   "id": "f633424b",
   "metadata": {},
   "outputs": [],
   "source": [
    "nabi = Cat()"
   ]
  },
  {
   "cell_type": "code",
   "execution_count": 19,
   "id": "df514dfc",
   "metadata": {},
   "outputs": [
    {
     "name": "stdout",
     "output_type": "stream",
     "text": [
      "<__main__.Cat object at 0x000002917023EA60>\n"
     ]
    }
   ],
   "source": [
    "print(nabi)"
   ]
  },
  {
   "cell_type": "code",
   "execution_count": 20,
   "id": "09f066c2",
   "metadata": {},
   "outputs": [],
   "source": [
    "class Dog:\n",
    "    \n",
    "    def bark(self): #클래스의 메소드에는 무조건 self를 인스턴스로 주어야 한다\n",
    "        print(\"왈! 왈!\")"
   ]
  },
  {
   "cell_type": "code",
   "execution_count": 21,
   "id": "56200af8",
   "metadata": {},
   "outputs": [],
   "source": [
    "poppi = Dog()\n",
    "happy = Dog()\n",
    "black = Dog()\n",
    "my_dog = Dog()"
   ]
  },
  {
   "cell_type": "code",
   "execution_count": 22,
   "id": "f4c720e1",
   "metadata": {},
   "outputs": [
    {
     "name": "stdout",
     "output_type": "stream",
     "text": [
      "왈! 왈!\n",
      "왈! 왈!\n",
      "왈! 왈!\n",
      "왈! 왈!\n"
     ]
    }
   ],
   "source": [
    "poppi.bark()\n",
    "happy.bark()\n",
    "black.bark()\n",
    "my_dog.bark()"
   ]
  },
  {
   "cell_type": "code",
   "execution_count": 23,
   "id": "52fcd3ad",
   "metadata": {},
   "outputs": [],
   "source": [
    "class Tiger:\n",
    "    name=''\n",
    "    color=''\n",
    "    \n",
    "    def meow(self):\n",
    "        print('야옹')\n",
    "        "
   ]
  },
  {
   "cell_type": "code",
   "execution_count": 24,
   "id": "7b74c2d1",
   "metadata": {},
   "outputs": [],
   "source": [
    "nabi_2 = Tiger()"
   ]
  },
  {
   "cell_type": "code",
   "execution_count": 25,
   "id": "f7f5e922",
   "metadata": {},
   "outputs": [],
   "source": [
    "nabi_2.name = '레오'\n",
    "nabi_2.color = '흰색'"
   ]
  },
  {
   "cell_type": "code",
   "execution_count": 26,
   "id": "e6e2595c",
   "metadata": {},
   "outputs": [
    {
     "name": "stdout",
     "output_type": "stream",
     "text": [
      "Tiger name: 레오\n",
      "Tiger color: 흰색\n"
     ]
    }
   ],
   "source": [
    "print('Tiger name: {}'.format(nabi_2.name))\n",
    "print('Tiger color: {}'.format(nabi_2.color))"
   ]
  },
  {
   "cell_type": "code",
   "execution_count": 37,
   "id": "4fb9f934",
   "metadata": {},
   "outputs": [],
   "source": [
    "class Cat2:\n",
    "    \n",
    "    def __init__(self,name='나비',color='검정'):  #생성자에서 디폴트값 가능\n",
    "        self.name = name\n",
    "        self.color = color\n",
    "        \n",
    "    def meow(self):\n",
    "        #클래스 내의 다른 함수에 변수 사용시에도 self 사용해야한다\n",
    "        self.meow_action = '{}인 {}이 야옹'.format(self.color, self.name)    \n",
    "        \n",
    "    # self 변수로 클래스 안의 다른 함수의 변수 사용\n",
    "    def excute(self):\n",
    "        print(self.meow_action) "
   ]
  },
  {
   "cell_type": "code",
   "execution_count": 39,
   "id": "2ed8ca81",
   "metadata": {},
   "outputs": [
    {
     "name": "stdout",
     "output_type": "stream",
     "text": [
      "흰색인 레온이 야옹\n"
     ]
    }
   ],
   "source": [
    "cat = Cat2(name='레온',color='흰색') # 속성 이름을 써도 된다\n",
    "cat.meow()\n",
    "cat.excute()"
   ]
  },
  {
   "cell_type": "code",
   "execution_count": 49,
   "id": "d50e13de",
   "metadata": {},
   "outputs": [],
   "source": [
    "class Rabbit():\n",
    "    def __init__(self, shape, x_pos = 0 , y_pos = 0):\n",
    "        self.shape =shape\n",
    "        self.x_pos = x_pos\n",
    "        self.y_pos = y_pos\n",
    "        \n",
    "    def goto(self, x, y):\n",
    "        self.x_pos += x\n",
    "        self.y_pos += y\n",
    "        \n",
    "        print('토끼 {}의 위치: x:{}, y:{}'.format(self.shape,self.x_pos, self.y_pos))"
   ]
  },
  {
   "cell_type": "code",
   "execution_count": 50,
   "id": "21881b4d",
   "metadata": {},
   "outputs": [],
   "source": [
    "rab1 = Rabbit(shape = \"네모\")\n",
    "rab2 = Rabbit(shape = \"세모\")\n",
    "rab3 = Rabbit(shape = \"원\")"
   ]
  },
  {
   "cell_type": "code",
   "execution_count": 51,
   "id": "8beffb19",
   "metadata": {},
   "outputs": [
    {
     "name": "stdout",
     "output_type": "stream",
     "text": [
      "토끼 네모의 위치: x:100, y:200\n"
     ]
    }
   ],
   "source": [
    "rab1.goto(x=100,y=200)"
   ]
  },
  {
   "cell_type": "markdown",
   "id": "8c8f5380",
   "metadata": {},
   "source": [
    "open 함수는 파일을 열고 읽고 쓰고 할 수 있다."
   ]
  },
  {
   "cell_type": "code",
   "execution_count": 21,
   "id": "b522018e",
   "metadata": {},
   "outputs": [],
   "source": [
    "f = open('hello.txt','w')\n",
    "f.write('hello world! \\n')\n",
    "f.close()"
   ]
  },
  {
   "cell_type": "markdown",
   "id": "96a4bcbc",
   "metadata": {},
   "source": [
    "write 모드면 덮어쓰기이고 추가적으로 쓰기 위해서는 append 모드로 읽어야 한다"
   ]
  },
  {
   "cell_type": "code",
   "execution_count": 22,
   "id": "f80c7632",
   "metadata": {},
   "outputs": [],
   "source": [
    "f = open('hello.txt','a')\n",
    "f.write('hello world!\\n')\n",
    "f.close()"
   ]
  },
  {
   "cell_type": "code",
   "execution_count": 23,
   "id": "c43f30b1",
   "metadata": {},
   "outputs": [
    {
     "name": "stdout",
     "output_type": "stream",
     "text": [
      "hello world! \n",
      "hello world!\n",
      "\n"
     ]
    }
   ],
   "source": [
    "f = open('hello.txt','r')\n",
    "a = f.read()\n",
    "f.close()\n",
    "print(a)"
   ]
  },
  {
   "cell_type": "code",
   "execution_count": 24,
   "id": "42abc2a2",
   "metadata": {},
   "outputs": [
    {
     "name": "stdout",
     "output_type": "stream",
     "text": [
      "['hello', 'world!', '\\nhello', 'world!\\n']\n"
     ]
    }
   ],
   "source": [
    "f = open('hello.txt','r')\n",
    "b = f.read().split(' ')\n",
    "f.close()\n",
    "print(b)"
   ]
  },
  {
   "cell_type": "code",
   "execution_count": 25,
   "id": "2be22408",
   "metadata": {},
   "outputs": [],
   "source": [
    "f = open('hello.txt','a')\n",
    "f.write('this will be appended')\n",
    "f.close()"
   ]
  },
  {
   "cell_type": "code",
   "execution_count": 26,
   "id": "ae610082",
   "metadata": {},
   "outputs": [
    {
     "name": "stdout",
     "output_type": "stream",
     "text": [
      "['hello world! \\n', 'hello world!\\n', 'this will be appended']\n"
     ]
    }
   ],
   "source": [
    "f = open('hello.txt','r')\n",
    "b = f.readlines()\n",
    "f.close()\n",
    "print(b)"
   ]
  },
  {
   "cell_type": "code",
   "execution_count": 27,
   "id": "8ba1b76c",
   "metadata": {},
   "outputs": [],
   "source": [
    "f = open('인코딩.txt','w')\n",
    "print()"
   ]
  },
  {
   "cell_type": "code",
   "execution_count": 33,
   "id": "b9583f52",
   "metadata": {},
   "outputs": [
    {
     "name": "stdout",
     "output_type": "stream",
     "text": [
      "정수를 입력하세요1\n",
      "정수를 입력하세요2\n",
      "정수를 입력하세요3\n",
      "정수를 입력하세요4\n",
      "정수를 입력하세요5\n"
     ]
    }
   ],
   "source": [
    "f = open('data5.txt','w')\n",
    "\n",
    "for i in range(5):\n",
    "    a=input('정수를 입력하세요')\n",
    "    f.write(a+'\\n')\n",
    "    \n",
    "f.close()"
   ]
  },
  {
   "cell_type": "code",
   "execution_count": 38,
   "id": "9158b43d",
   "metadata": {},
   "outputs": [
    {
     "name": "stdout",
     "output_type": "stream",
     "text": [
      "3.0\n"
     ]
    }
   ],
   "source": [
    "f = open('data5.txt','r')\n",
    "c = f.readlines()\n",
    "f.close()\n",
    "\n",
    "sum_c = 0\n",
    "for i in c:\n",
    "    sum_c += float(i)\n",
    "print(sum_c/len(c))"
   ]
  },
  {
   "cell_type": "code",
   "execution_count": null,
   "id": "c66a17b1",
   "metadata": {},
   "outputs": [],
   "source": []
  }
 ],
 "metadata": {
  "kernelspec": {
   "display_name": "Python 3 (ipykernel)",
   "language": "python",
   "name": "python3"
  },
  "language_info": {
   "codemirror_mode": {
    "name": "ipython",
    "version": 3
   },
   "file_extension": ".py",
   "mimetype": "text/x-python",
   "name": "python",
   "nbconvert_exporter": "python",
   "pygments_lexer": "ipython3",
   "version": "3.9.12"
  }
 },
 "nbformat": 4,
 "nbformat_minor": 5
}

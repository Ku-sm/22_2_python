{
 "cells": [
  {
   "cell_type": "code",
   "execution_count": 30,
   "id": "8dce4d86",
   "metadata": {},
   "outputs": [],
   "source": [
    "import pandas as pd\n",
    "import math"
   ]
  },
  {
   "cell_type": "code",
   "execution_count": 31,
   "id": "edc3989e",
   "metadata": {},
   "outputs": [],
   "source": [
    "a , b = 100 , 200"
   ]
  },
  {
   "cell_type": "code",
   "execution_count": 32,
   "id": "267ffebb",
   "metadata": {},
   "outputs": [
    {
     "name": "stdout",
     "output_type": "stream",
     "text": [
      "100 200\n"
     ]
    }
   ],
   "source": [
    "print(a,b)"
   ]
  },
  {
   "cell_type": "code",
   "execution_count": 33,
   "id": "afb805c6",
   "metadata": {},
   "outputs": [
    {
     "name": "stdout",
     "output_type": "stream",
     "text": [
      "1\n",
      "4\n",
      "7\n",
      "12\n"
     ]
    }
   ],
   "source": [
    "count=0\n",
    "for i in range(1,10,3):\n",
    "    print(i)\n",
    "    count+=i\n",
    "    \n",
    "print(count)"
   ]
  },
  {
   "cell_type": "code",
   "execution_count": 54,
   "id": "8ae9508c",
   "metadata": {},
   "outputs": [
    {
     "name": "stdout",
     "output_type": "stream",
     "text": [
      "8 1000\n"
     ]
    }
   ],
   "source": [
    "list1=[1,2,3,4,5,6,7,8]\n",
    "list2= list(range(0,1001,2))\n",
    "print(max(list1), max(list2))"
   ]
  },
  {
   "cell_type": "code",
   "execution_count": 55,
   "id": "8d87cb95",
   "metadata": {},
   "outputs": [
    {
     "name": "stdout",
     "output_type": "stream",
     "text": [
      "1 0\n"
     ]
    }
   ],
   "source": [
    "print(min(list1),min(list2))"
   ]
  },
  {
   "cell_type": "code",
   "execution_count": 94,
   "id": "640052d8",
   "metadata": {},
   "outputs": [
    {
     "data": {
      "text/plain": [
       "3"
      ]
     },
     "execution_count": 94,
     "metadata": {},
     "output_type": "execute_result"
    }
   ],
   "source": [
    "# 반올림\n",
    "round(2.51) "
   ]
  },
  {
   "cell_type": "code",
   "execution_count": 58,
   "id": "b56cd0cc",
   "metadata": {},
   "outputs": [],
   "source": [
    "list1.append(10)"
   ]
  },
  {
   "cell_type": "code",
   "execution_count": 71,
   "id": "486a5a09",
   "metadata": {},
   "outputs": [
    {
     "name": "stdout",
     "output_type": "stream",
     "text": [
      "0.0 2500.0\n"
     ]
    }
   ],
   "source": [
    "list3=[]\n",
    "list4=[]\n",
    "y=50\n",
    "for i in range(1000):\n",
    "    list3.append(i/10)\n",
    "    list4.append(y-list3[i])\n",
    "    list4[i] = abs(list4[i])**2\n",
    "print(min(list4),max(list4))"
   ]
  },
  {
   "cell_type": "code",
   "execution_count": 72,
   "id": "fff64fea",
   "metadata": {},
   "outputs": [],
   "source": [
    "h='173.324'\n",
    "h2 = '67'"
   ]
  },
  {
   "cell_type": "code",
   "execution_count": 73,
   "id": "df0b3176",
   "metadata": {},
   "outputs": [
    {
     "name": "stdout",
     "output_type": "stream",
     "text": [
      "저의 키는 173.324, 학생은 67입니다\n"
     ]
    }
   ],
   "source": [
    "print('저의 키는 {:}, 학생은 {:}입니다'.format(h,h2))"
   ]
  },
  {
   "cell_type": "code",
   "execution_count": 79,
   "id": "ee8a4be9",
   "metadata": {},
   "outputs": [],
   "source": [
    "num1 = 3.14195"
   ]
  },
  {
   "cell_type": "code",
   "execution_count": 80,
   "id": "ca0e6d2a",
   "metadata": {},
   "outputs": [
    {
     "name": "stdout",
     "output_type": "stream",
     "text": [
      "3.1,3.14,3.142,3.1420,3.14195\n"
     ]
    }
   ],
   "source": [
    "print(\"%.1f,%.2f,%.3f,%.4f,%.5f\"%(num1,num1,num1,num1,num1))"
   ]
  },
  {
   "cell_type": "code",
   "execution_count": 91,
   "id": "462559b9",
   "metadata": {},
   "outputs": [
    {
     "name": "stdout",
     "output_type": "stream",
     "text": [
      "3,3.1,3.14,3.142,3.1420,3.14195\n"
     ]
    }
   ],
   "source": [
    "#r같은 출력물의 다른 방식 - format이용\n",
    "print(\"{:.0f},{:.1f},{:.2f},{:.3f},{:.4f},{:.5f}\" .format(num1,num1,num1,num1,num1,num1))"
   ]
  },
  {
   "cell_type": "code",
   "execution_count": 95,
   "id": "27355c42",
   "metadata": {},
   "outputs": [
    {
     "data": {
      "text/plain": [
       "4"
      ]
     },
     "execution_count": 95,
     "metadata": {},
     "output_type": "execute_result"
    }
   ],
   "source": [
    "math.ceil(3.2)"
   ]
  },
  {
   "cell_type": "code",
   "execution_count": 96,
   "id": "4f5797c3",
   "metadata": {},
   "outputs": [
    {
     "data": {
      "text/plain": [
       "0.1"
      ]
     },
     "execution_count": 96,
     "metadata": {},
     "output_type": "execute_result"
    }
   ],
   "source": [
    "math.fabs(-0.1)"
   ]
  },
  {
   "cell_type": "code",
   "execution_count": 97,
   "id": "7d755489",
   "metadata": {},
   "outputs": [
    {
     "data": {
      "text/plain": [
       "True"
      ]
     },
     "execution_count": 97,
     "metadata": {},
     "output_type": "execute_result"
    }
   ],
   "source": [
    "a,b = 10,6\n",
    "(a%2)==0"
   ]
  },
  {
   "cell_type": "code",
   "execution_count": 98,
   "id": "a8cbb690",
   "metadata": {},
   "outputs": [
    {
     "data": {
      "text/plain": [
       "True"
      ]
     },
     "execution_count": 98,
     "metadata": {},
     "output_type": "execute_result"
    }
   ],
   "source": [
    "(b%2)==0"
   ]
  },
  {
   "cell_type": "code",
   "execution_count": 99,
   "id": "4b89cc34",
   "metadata": {},
   "outputs": [
    {
     "name": "stdout",
     "output_type": "stream",
     "text": [
      "10 6\n"
     ]
    }
   ],
   "source": [
    "if((a%2)==0 and (b%2)==0):\n",
    "    print(a,b)"
   ]
  },
  {
   "cell_type": "code",
   "execution_count": 103,
   "id": "95b30834",
   "metadata": {},
   "outputs": [
    {
     "name": "stdout",
     "output_type": "stream",
     "text": [
      "하루 만보 걷기 했나? 네\n",
      " 12000 보 걷기\n"
     ]
    }
   ],
   "source": [
    "print('하루 만보 걷기 했나?', '네\\n', 12000,'보 걷기' )"
   ]
  },
  {
   "cell_type": "code",
   "execution_count": 104,
   "id": "3df9cffd",
   "metadata": {},
   "outputs": [
    {
     "data": {
      "text/plain": [
       "[1, 2, 3, 4]"
      ]
     },
     "execution_count": 104,
     "metadata": {},
     "output_type": "execute_result"
    }
   ],
   "source": [
    "#슬라이싱  [시작 위치: 끝 위치] -> 시작 위치~ (끝-1) 위치\n",
    "list1[0:4]  // list1[0~3]"
   ]
  },
  {
   "cell_type": "code",
   "execution_count": 105,
   "id": "a13acdf3",
   "metadata": {},
   "outputs": [
    {
     "data": {
      "text/plain": [
       "'요'"
      ]
     },
     "execution_count": 105,
     "metadata": {},
     "output_type": "execute_result"
    }
   ],
   "source": [
    "hello = '안녕하세요'\n",
    "hello[-1]"
   ]
  },
  {
   "cell_type": "code",
   "execution_count": 106,
   "id": "a55354d7",
   "metadata": {},
   "outputs": [
    {
     "data": {
      "text/plain": [
       "'안녕하세'"
      ]
     },
     "execution_count": 106,
     "metadata": {},
     "output_type": "execute_result"
    }
   ],
   "source": [
    "hello[:-1]"
   ]
  },
  {
   "cell_type": "code",
   "execution_count": null,
   "id": "23e6d43e",
   "metadata": {},
   "outputs": [],
   "source": []
  }
 ],
 "metadata": {
  "kernelspec": {
   "display_name": "Python 3 (ipykernel)",
   "language": "python",
   "name": "python3"
  },
  "language_info": {
   "codemirror_mode": {
    "name": "ipython",
    "version": 3
   },
   "file_extension": ".py",
   "mimetype": "text/x-python",
   "name": "python",
   "nbconvert_exporter": "python",
   "pygments_lexer": "ipython3",
   "version": "3.9.12"
  }
 },
 "nbformat": 4,
 "nbformat_minor": 5
}

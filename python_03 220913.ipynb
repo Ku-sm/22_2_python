{
 "cells": [
  {
   "cell_type": "code",
   "execution_count": 93,
   "id": "d510afa4",
   "metadata": {},
   "outputs": [],
   "source": [
    "str = \"hello\""
   ]
  },
  {
   "cell_type": "markdown",
   "id": "58d929a3",
   "metadata": {},
   "source": [
    "### 문자열[시작:끝] ->  (index) 시작~ (끝-1) 까지의 문자열 슬라이싱"
   ]
  },
  {
   "cell_type": "code",
   "execution_count": 94,
   "id": "2828fc18",
   "metadata": {},
   "outputs": [
    {
     "data": {
      "text/plain": [
       "'hell'"
      ]
     },
     "execution_count": 94,
     "metadata": {},
     "output_type": "execute_result"
    }
   ],
   "source": [
    "str[:-1]  # 0부터 마지막 전 까지// -1은 맨 마지막을 의미"
   ]
  },
  {
   "cell_type": "code",
   "execution_count": 95,
   "id": "81e06648",
   "metadata": {},
   "outputs": [
    {
     "data": {
      "text/plain": [
       "'HELLO WORLD!'"
      ]
     },
     "execution_count": 95,
     "metadata": {},
     "output_type": "execute_result"
    }
   ],
   "source": [
    "hello = 'HELLO'\n",
    "world = 'WORLD!'\n",
    "\n",
    "hello+\" \"+world"
   ]
  },
  {
   "cell_type": "markdown",
   "id": "7cd15152",
   "metadata": {},
   "source": [
    "### 리스트도 문자열과 같이 슬라이싱 가능  \n",
    "### 리스트는 내용 변경이 가능하지만 문자열은 불가능하다"
   ]
  },
  {
   "cell_type": "code",
   "execution_count": 96,
   "id": "e73aed1f",
   "metadata": {},
   "outputs": [
    {
     "name": "stdout",
     "output_type": "stream",
     "text": [
      "10\n"
     ]
    }
   ],
   "source": [
    "a = [1,2,3,4,5,6]\n",
    "a[1] = 10\n",
    "print(a[1])"
   ]
  },
  {
   "cell_type": "code",
   "execution_count": 97,
   "id": "4e293b05",
   "metadata": {},
   "outputs": [],
   "source": [
    "# str[2]=\"H\""
   ]
  },
  {
   "cell_type": "code",
   "execution_count": 98,
   "id": "064cf333",
   "metadata": {},
   "outputs": [
    {
     "data": {
      "text/plain": [
       "'Hello'"
      ]
     },
     "execution_count": 98,
     "metadata": {},
     "output_type": "execute_result"
    }
   ],
   "source": [
    "\"H\"+str[1:]  # 내용을 바꿀때 슬라이싱과 문자열의 덧셈으로 새로 만들 수 있다."
   ]
  },
  {
   "cell_type": "code",
   "execution_count": 99,
   "id": "f44ec50d",
   "metadata": {},
   "outputs": [
    {
     "data": {
      "text/plain": [
       "True"
      ]
     },
     "execution_count": 99,
     "metadata": {},
     "output_type": "execute_result"
    }
   ],
   "source": [
    "'h' in str # 문자열도 in으로 해서 내용물 호출이 가능하다. in -> ~안에 무언가가 있나 확인할 때 사용"
   ]
  },
  {
   "cell_type": "code",
   "execution_count": 100,
   "id": "d2a28971",
   "metadata": {},
   "outputs": [
    {
     "data": {
      "text/plain": [
       "'hello hello hello '"
      ]
     },
     "execution_count": 100,
     "metadata": {},
     "output_type": "execute_result"
    }
   ],
   "source": [
    "(str+\" \")* 3  # 문자열에 곱하면 그 곱한 숫자만큼 반복되서 출력이 된다."
   ]
  },
  {
   "cell_type": "code",
   "execution_count": 101,
   "id": "363dc279",
   "metadata": {},
   "outputs": [
    {
     "name": "stdout",
     "output_type": "stream",
     "text": [
      "구글 아마존 마이크로소프트 애플 야후\n"
     ]
    }
   ],
   "source": [
    "print('구글','아마존','마이크로소프트','애플','야후',sep=' ')  ## sep은 구분기호로 문자열 사이의 부분을 구별하는 구분자를 설정한다"
   ]
  },
  {
   "cell_type": "code",
   "execution_count": 102,
   "id": "2f9ec82d",
   "metadata": {},
   "outputs": [
    {
     "name": "stdout",
     "output_type": "stream",
     "text": [
      "구글*아마존*마이크로소프트*애플*야후\n"
     ]
    }
   ],
   "source": [
    "print('구글','아마존','마이크로소프트','애플','야후',sep='*')"
   ]
  },
  {
   "cell_type": "code",
   "execution_count": 103,
   "id": "765143f2",
   "metadata": {},
   "outputs": [
    {
     "name": "stdout",
     "output_type": "stream",
     "text": [
      "구글>>아마존>>마이크로소프트>>애플>>야후\n"
     ]
    }
   ],
   "source": [
    "print('구글','아마존','마이크로소프트','애플','야후',sep='>>')"
   ]
  },
  {
   "cell_type": "code",
   "execution_count": 104,
   "id": "9f425c9c",
   "metadata": {},
   "outputs": [
    {
     "name": "stdout",
     "output_type": "stream",
     "text": [
      "이름을 입력하세요구숭모\n"
     ]
    }
   ],
   "source": [
    "a = input('이름을 입력하세요') ## 파이썬은 띄어쓰기도 같이 입력 가능"
   ]
  },
  {
   "cell_type": "code",
   "execution_count": 105,
   "id": "de38cf5e",
   "metadata": {},
   "outputs": [
    {
     "name": "stdout",
     "output_type": "stream",
     "text": [
      "구숭모\n"
     ]
    }
   ],
   "source": [
    "print(a)"
   ]
  },
  {
   "cell_type": "code",
   "execution_count": 106,
   "id": "9914061e",
   "metadata": {},
   "outputs": [
    {
     "name": "stdout",
     "output_type": "stream",
     "text": [
      "수를 입력하세요10\n"
     ]
    }
   ],
   "source": [
    "number1 = input('수를 입력하세요')"
   ]
  },
  {
   "cell_type": "code",
   "execution_count": 107,
   "id": "001b9710",
   "metadata": {},
   "outputs": [
    {
     "name": "stdout",
     "output_type": "stream",
     "text": [
      "10101010101010101010\n"
     ]
    }
   ],
   "source": [
    "print(number1*10)  # input은 문자열로 받아들이기 때문에 수로 사용하게 위해서는 변환이 필요하다"
   ]
  },
  {
   "cell_type": "code",
   "execution_count": 108,
   "id": "4e251fca",
   "metadata": {},
   "outputs": [
    {
     "name": "stdout",
     "output_type": "stream",
     "text": [
      "100\n"
     ]
    }
   ],
   "source": [
    "number1 = int(number1)\n",
    "print(number1*10)"
   ]
  },
  {
   "cell_type": "markdown",
   "id": "ebdfcfb3",
   "metadata": {},
   "source": [
    "## 입력받고 출력하기"
   ]
  },
  {
   "cell_type": "code",
   "execution_count": 109,
   "id": "a8f6a7a3",
   "metadata": {},
   "outputs": [
    {
     "name": "stdout",
     "output_type": "stream",
     "text": [
      "이름 , 소속 , 핸드폰 번호를 입력해주세요 구숭모 소프트웨어전공 01041782903\n"
     ]
    }
   ],
   "source": [
    "info = input('이름 , 소속 , 핸드폰 번호를 입력해주세요 ')"
   ]
  },
  {
   "cell_type": "code",
   "execution_count": 110,
   "id": "d9a4bc79",
   "metadata": {},
   "outputs": [
    {
     "name": "stdout",
     "output_type": "stream",
     "text": [
      "['구숭모', '소프트웨어전공', '01041782903']\n"
     ]
    }
   ],
   "source": [
    "info = info.split(' ')\n",
    "print(info)"
   ]
  },
  {
   "cell_type": "code",
   "execution_count": 111,
   "id": "902cd917",
   "metadata": {},
   "outputs": [],
   "source": [
    "info[-1] = info[-1][0:7] +\"****\""
   ]
  },
  {
   "cell_type": "code",
   "execution_count": 112,
   "id": "effee4f1",
   "metadata": {},
   "outputs": [
    {
     "name": "stdout",
     "output_type": "stream",
     "text": [
      "이름은  구숭모  입니다. 소속은 소프트웨어전공 이며, 핸드폰 번호는  0104178**** 입니다\n"
     ]
    }
   ],
   "source": [
    "print('이름은 ',info[0],' 입니다. 소속은',info[1],'이며, 핸드폰 번호는 ',info[2],'입니다')"
   ]
  },
  {
   "cell_type": "code",
   "execution_count": 113,
   "id": "c94b20da",
   "metadata": {},
   "outputs": [
    {
     "name": "stdout",
     "output_type": "stream",
     "text": [
      "이름은 구숭모 입니다. 소속은 소프트웨어전공 이며, 핸드폰 번호는 0104178**** 입니다\n"
     ]
    }
   ],
   "source": [
    "print('이름은 {} 입니다. 소속은 {} 이며, 핸드폰 번호는 {} 입니다'.format(info[0],info[1],info[2])) #format 이용하는 방법"
   ]
  },
  {
   "cell_type": "markdown",
   "id": "22478982",
   "metadata": {},
   "source": [
    "## 곱하기 코드"
   ]
  },
  {
   "cell_type": "code",
   "execution_count": 114,
   "id": "6453bd36",
   "metadata": {},
   "outputs": [
    {
     "name": "stdout",
     "output_type": "stream",
     "text": [
      "곱하기 코드\n",
      "숫자1 을 입력20\n",
      "숫자2 를 입력30\n"
     ]
    }
   ],
   "source": [
    "## 수 입력에 있어서 중요한 점은 자료형 변환이다\n",
    "print('곱하기 코드')\n",
    "num1 = int(input('숫자1 을 입력'))\n",
    "num2 = int(input('숫자2 를 입력'))"
   ]
  },
  {
   "cell_type": "code",
   "execution_count": 115,
   "id": "def641eb",
   "metadata": {},
   "outputs": [],
   "source": [
    "res = num1 * num2"
   ]
  },
  {
   "cell_type": "code",
   "execution_count": 116,
   "id": "7226a27b",
   "metadata": {},
   "outputs": [
    {
     "name": "stdout",
     "output_type": "stream",
     "text": [
      "결과: 20 * 30 = 600\n"
     ]
    }
   ],
   "source": [
    "print('결과: {} * {} = {}'.format(num1,num2,res))"
   ]
  },
  {
   "cell_type": "markdown",
   "id": "08f3f852",
   "metadata": {},
   "source": [
    "## 함수 만들기( 메소드 )"
   ]
  },
  {
   "cell_type": "markdown",
   "id": "b3328020",
   "metadata": {},
   "source": [
    "### 객체란? => 관련된 변수와 함수를 하나로 묶은 것 by 교과서"
   ]
  },
  {
   "cell_type": "code",
   "execution_count": 134,
   "id": "9dd6ca98",
   "metadata": {},
   "outputs": [],
   "source": [
    "txt = 'department '\n",
    "txt1= '*department*'"
   ]
  },
  {
   "cell_type": "code",
   "execution_count": 135,
   "id": "20e3294e",
   "metadata": {},
   "outputs": [
    {
     "data": {
      "text/plain": [
       "1"
      ]
     },
     "execution_count": 135,
     "metadata": {},
     "output_type": "execute_result"
    }
   ],
   "source": [
    "txt.find('e') # find함수 -> 찾는 문자열의 첫번째 시작위치를 알려준다"
   ]
  },
  {
   "cell_type": "code",
   "execution_count": 136,
   "id": "6fa82b33",
   "metadata": {},
   "outputs": [
    {
     "data": {
      "text/plain": [
       "7"
      ]
     },
     "execution_count": 136,
     "metadata": {},
     "output_type": "execute_result"
    }
   ],
   "source": [
    "txt.rfind('e') # rfind함수 -> 찾는 문자열의 마지막 시작위치를 알려준다"
   ]
  },
  {
   "cell_type": "code",
   "execution_count": 137,
   "id": "90c2d595",
   "metadata": {},
   "outputs": [
    {
     "data": {
      "text/plain": [
       "'department'"
      ]
     },
     "execution_count": 137,
     "metadata": {},
     "output_type": "execute_result"
    }
   ],
   "source": [
    "txt.strip()  # strip 함수는 공백을 제거, rstrip, lstrip 존재, 매개변수로 문자를 주면 양 끝의 그 문자를 제거한다"
   ]
  },
  {
   "cell_type": "code",
   "execution_count": 138,
   "id": "c31c8ea1",
   "metadata": {},
   "outputs": [
    {
     "data": {
      "text/plain": [
       "'department'"
      ]
     },
     "execution_count": 138,
     "metadata": {},
     "output_type": "execute_result"
    }
   ],
   "source": [
    "txt1.strip('*')"
   ]
  },
  {
   "cell_type": "code",
   "execution_count": 140,
   "id": "9e7f2ebc",
   "metadata": {},
   "outputs": [
    {
     "data": {
      "text/plain": [
       "2"
      ]
     },
     "execution_count": 140,
     "metadata": {},
     "output_type": "execute_result"
    }
   ],
   "source": [
    "txt.count('e')  # 문자에 몇개가 포함되어 있는지 확인"
   ]
  },
  {
   "cell_type": "code",
   "execution_count": 142,
   "id": "f416a4da",
   "metadata": {},
   "outputs": [
    {
     "data": {
      "text/plain": [
       "'department'"
      ]
     },
     "execution_count": 142,
     "metadata": {},
     "output_type": "execute_result"
    }
   ],
   "source": [
    "txt1.replace('*','') # replace함수는 문자를 다른 문자로 변환한다"
   ]
  },
  {
   "cell_type": "markdown",
   "id": "4f0ecc03",
   "metadata": {},
   "source": [
    "## 실습"
   ]
  },
  {
   "cell_type": "code",
   "execution_count": 162,
   "id": "671d78df",
   "metadata": {},
   "outputs": [],
   "source": [
    "data = \"10,'170'\""
   ]
  },
  {
   "cell_type": "code",
   "execution_count": 163,
   "id": "82b51997",
   "metadata": {},
   "outputs": [],
   "source": [
    "data1 = data.split(',')"
   ]
  },
  {
   "cell_type": "code",
   "execution_count": 164,
   "id": "28f0e529",
   "metadata": {},
   "outputs": [
    {
     "name": "stdout",
     "output_type": "stream",
     "text": [
      "['10', \"'170'\"]\n"
     ]
    }
   ],
   "source": [
    "print(data1)"
   ]
  },
  {
   "cell_type": "code",
   "execution_count": 165,
   "id": "1c8f66b4",
   "metadata": {},
   "outputs": [],
   "source": [
    "data1[0] = int(data1[0])"
   ]
  },
  {
   "cell_type": "code",
   "execution_count": 170,
   "id": "c7917e0f",
   "metadata": {},
   "outputs": [],
   "source": [
    "data1[1]= int(data1[1][1:4])"
   ]
  },
  {
   "cell_type": "code",
   "execution_count": 171,
   "id": "f9be8f8f",
   "metadata": {},
   "outputs": [
    {
     "name": "stdout",
     "output_type": "stream",
     "text": [
      "[10, 170]\n"
     ]
    }
   ],
   "source": [
    "print(data1)"
   ]
  },
  {
   "cell_type": "code",
   "execution_count": 187,
   "id": "e3c6bb1e",
   "metadata": {},
   "outputs": [],
   "source": [
    "data2 = []\n",
    "for word in data.split(','):\n",
    "    data2.append(int(word.strip().strip(\"''\"))) # strip으로 '' 없앨때 \\가 필요 없다!"
   ]
  },
  {
   "cell_type": "code",
   "execution_count": null,
   "id": "757d2f6f",
   "metadata": {},
   "outputs": [],
   "source": [
    " print(data2)"
   ]
  },
  {
   "cell_type": "markdown",
   "id": "7f34d0cb",
   "metadata": {},
   "source": [
    "## 순차구조-> 순차적으로 실행  \n",
    "프로그램의 흐름제어 -  두 가지의 제어 방식 (선택구조, 반복구조)\n",
    "\n",
    "프로그램의 흐름을 제어하는 역할 -> 조건문(conditional statements), 반복문()"
   ]
  },
  {
   "cell_type": "code",
   "execution_count": 188,
   "id": "5a55b25e",
   "metadata": {},
   "outputs": [],
   "source": [
    "#if [조건식]:           // 조건식이 참일 때 수행  \n",
    "#   [실행문]           // 실행문의 앞에 들여쓰기가 되어야 함"
   ]
  },
  {
   "cell_type": "code",
   "execution_count": 191,
   "id": "0ccb6b59",
   "metadata": {},
   "outputs": [
    {
     "name": "stdout",
     "output_type": "stream",
     "text": [
      "청소년 할인 가능\n"
     ]
    }
   ],
   "source": [
    "age =19\n",
    "if age < 20:\n",
    "    print('청소년 할인 가능')\n",
    "else:\n",
    "    print('펑소년 할인 불가능')"
   ]
  },
  {
   "cell_type": "code",
   "execution_count": null,
   "id": "37ab4b5c",
   "metadata": {},
   "outputs": [],
   "source": []
  }
 ],
 "metadata": {
  "kernelspec": {
   "display_name": "Python 3 (ipykernel)",
   "language": "python",
   "name": "python3"
  },
  "language_info": {
   "codemirror_mode": {
    "name": "ipython",
    "version": 3
   },
   "file_extension": ".py",
   "mimetype": "text/x-python",
   "name": "python",
   "nbconvert_exporter": "python",
   "pygments_lexer": "ipython3",
   "version": "3.9.12"
  }
 },
 "nbformat": 4,
 "nbformat_minor": 5
}

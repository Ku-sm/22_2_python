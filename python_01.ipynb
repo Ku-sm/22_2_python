{
 "cells": [
  {
   "cell_type": "code",
   "execution_count": 9,
   "id": "e645938b",
   "metadata": {},
   "outputs": [],
   "source": [
    "import numpy as np\n",
    "import pandas as pd\n",
    "import math\n",
    "from PIL import Image"
   ]
  },
  {
   "cell_type": "markdown",
   "id": "2d9a3b05",
   "metadata": {},
   "source": [
    "## HELLO!"
   ]
  },
  {
   "cell_type": "code",
   "execution_count": 2,
   "id": "10c9ab42",
   "metadata": {},
   "outputs": [
    {
     "name": "stdout",
     "output_type": "stream",
     "text": [
      "Hello!, jupyter notebook!\n"
     ]
    }
   ],
   "source": [
    "print('Hello!, jupyter notebook!')"
   ]
  },
  {
   "cell_type": "code",
   "execution_count": 14,
   "id": "c5cafb32",
   "metadata": {},
   "outputs": [
    {
     "name": "stdout",
     "output_type": "stream",
     "text": [
      "23\n"
     ]
    }
   ],
   "source": [
    "a=23\n",
    "print(a)"
   ]
  },
  {
   "cell_type": "code",
   "execution_count": 4,
   "id": "b57d3f5e",
   "metadata": {},
   "outputs": [
    {
     "name": "stdout",
     "output_type": "stream",
     "text": [
      "10\n"
     ]
    }
   ],
   "source": [
    "print(a)"
   ]
  },
  {
   "cell_type": "code",
   "execution_count": 11,
   "id": "07c72a5d",
   "metadata": {},
   "outputs": [],
   "source": [
    "import urllib\n",
    "import PIL"
   ]
  },
  {
   "cell_type": "code",
   "execution_count": 6,
   "id": "fe9144a4",
   "metadata": {},
   "outputs": [
    {
     "data": {
      "text/plain": [
       "('sample.png', <http.client.HTTPMessage at 0x188b4cd6340>)"
      ]
     },
     "execution_count": 6,
     "metadata": {},
     "output_type": "execute_result"
    }
   ],
   "source": [
    "urllib.request.urlretrieve(\"https://upload3.inven.co.kr/upload/2020/10/03/bbs/i13516850970.png\", \"sample.png\")"
   ]
  },
  {
   "cell_type": "code",
   "execution_count": 12,
   "id": "e82e58a6",
   "metadata": {},
   "outputs": [],
   "source": [
    "img = PIL.Image.open(\"sample.png\")"
   ]
  },
  {
   "cell_type": "code",
   "execution_count": 13,
   "id": "0da57419",
   "metadata": {},
   "outputs": [],
   "source": [
    "d=img\n",
    "d.show()"
   ]
  },
  {
   "cell_type": "code",
   "execution_count": 15,
   "id": "c8a1c9b4",
   "metadata": {},
   "outputs": [
    {
     "data": {
      "text/plain": [
       "int"
      ]
     },
     "execution_count": 15,
     "metadata": {},
     "output_type": "execute_result"
    }
   ],
   "source": [
    "type(a)"
   ]
  },
  {
   "cell_type": "code",
   "execution_count": 26,
   "id": "e1879b66",
   "metadata": {},
   "outputs": [
    {
     "data": {
      "text/plain": [
       "1686536416240"
      ]
     },
     "execution_count": 26,
     "metadata": {},
     "output_type": "execute_result"
    }
   ],
   "source": [
    "id(a)"
   ]
  },
  {
   "cell_type": "code",
   "execution_count": 25,
   "id": "6a885400",
   "metadata": {},
   "outputs": [
    {
     "data": {
      "text/plain": [
       "1686662044448"
      ]
     },
     "execution_count": 25,
     "metadata": {},
     "output_type": "execute_result"
    }
   ],
   "source": [
    "id(d)"
   ]
  },
  {
   "cell_type": "code",
   "execution_count": 34,
   "id": "ff056f09",
   "metadata": {},
   "outputs": [],
   "source": [
    "k=a"
   ]
  },
  {
   "cell_type": "code",
   "execution_count": 35,
   "id": "1a696a8d",
   "metadata": {},
   "outputs": [
    {
     "data": {
      "text/plain": [
       "0"
      ]
     },
     "execution_count": 35,
     "metadata": {},
     "output_type": "execute_result"
    }
   ],
   "source": [
    "id(k)-id(a)"
   ]
  },
  {
   "cell_type": "markdown",
   "id": "36104e74",
   "metadata": {},
   "source": [
    "## 파이썬은 주소로 참조한다"
   ]
  },
  {
   "cell_type": "code",
   "execution_count": 37,
   "id": "82c4dd3d",
   "metadata": {},
   "outputs": [],
   "source": [
    "list1=[0,1,2,3]"
   ]
  },
  {
   "cell_type": "code",
   "execution_count": 41,
   "id": "d77b3b7c",
   "metadata": {},
   "outputs": [],
   "source": [
    "list2=list1"
   ]
  },
  {
   "cell_type": "code",
   "execution_count": 42,
   "id": "27b8835f",
   "metadata": {},
   "outputs": [],
   "source": [
    "list2[1]=100"
   ]
  },
  {
   "cell_type": "code",
   "execution_count": 44,
   "id": "61498190",
   "metadata": {},
   "outputs": [
    {
     "data": {
      "text/plain": [
       "[0, 100, 2, 3]"
      ]
     },
     "execution_count": 44,
     "metadata": {},
     "output_type": "execute_result"
    }
   ],
   "source": [
    "list1"
   ]
  },
  {
   "cell_type": "markdown",
   "id": "db452dca",
   "metadata": {},
   "source": [
    "## 처음 복사할때는 같은 주소지만 값 변경시에 주소도 변경  \n",
    "반대의 경우는? -> 가변객체의 주소는 변경이 안되지만, 불변 객체는 주소가 바뀐다  \n",
    "불변객체-> 숫자, 문자열, 튜플  \n",
    "가변객체-> 리스트, 딕셔너리, 세트"
   ]
  },
  {
   "cell_type": "code",
   "execution_count": 45,
   "id": "55d52fc6",
   "metadata": {},
   "outputs": [],
   "source": [
    "num1=10"
   ]
  },
  {
   "cell_type": "code",
   "execution_count": 47,
   "id": "dff06999",
   "metadata": {},
   "outputs": [
    {
     "data": {
      "text/plain": [
       "1686536415824"
      ]
     },
     "execution_count": 47,
     "metadata": {},
     "output_type": "execute_result"
    }
   ],
   "source": [
    "id(num1)"
   ]
  },
  {
   "cell_type": "code",
   "execution_count": 46,
   "id": "d9cf5ff0",
   "metadata": {},
   "outputs": [],
   "source": [
    "num2=num1"
   ]
  },
  {
   "cell_type": "code",
   "execution_count": 48,
   "id": "fcea703a",
   "metadata": {},
   "outputs": [
    {
     "data": {
      "text/plain": [
       "1686536415824"
      ]
     },
     "execution_count": 48,
     "metadata": {},
     "output_type": "execute_result"
    }
   ],
   "source": [
    "id(num2)"
   ]
  },
  {
   "cell_type": "code",
   "execution_count": 49,
   "id": "d1054623",
   "metadata": {},
   "outputs": [],
   "source": [
    "num1=20"
   ]
  },
  {
   "cell_type": "code",
   "execution_count": 50,
   "id": "801ddee6",
   "metadata": {},
   "outputs": [
    {
     "name": "stdout",
     "output_type": "stream",
     "text": [
      "1686536416144\n",
      "1686536415824\n"
     ]
    }
   ],
   "source": [
    "print(id(num1))\n",
    "print(id(num2))"
   ]
  },
  {
   "cell_type": "code",
   "execution_count": null,
   "id": "409ef014",
   "metadata": {},
   "outputs": [],
   "source": []
  }
 ],
 "metadata": {
  "kernelspec": {
   "display_name": "Python 3 (ipykernel)",
   "language": "python",
   "name": "python3"
  },
  "language_info": {
   "codemirror_mode": {
    "name": "ipython",
    "version": 3
   },
   "file_extension": ".py",
   "mimetype": "text/x-python",
   "name": "python",
   "nbconvert_exporter": "python",
   "pygments_lexer": "ipython3",
   "version": "3.9.12"
  }
 },
 "nbformat": 4,
 "nbformat_minor": 5
}

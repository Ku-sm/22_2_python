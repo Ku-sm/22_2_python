{
 "cells": [
  {
   "cell_type": "markdown",
   "id": "37c16694",
   "metadata": {},
   "source": [
    "일상생활 속 작은 부분의 주도적 성취를 얻어라"
   ]
  },
  {
   "cell_type": "markdown",
   "id": "43209b19",
   "metadata": {},
   "source": [
    "텐서플로/ 파이토치/ 케라스 -> 딥러닝 프레임워크 / 프로젝트 경험"
   ]
  },
  {
   "cell_type": "code",
   "execution_count": null,
   "id": "40e54110",
   "metadata": {},
   "outputs": [],
   "source": []
  }
 ],
 "metadata": {
  "kernelspec": {
   "display_name": "Python 3 (ipykernel)",
   "language": "python",
   "name": "python3"
  },
  "language_info": {
   "codemirror_mode": {
    "name": "ipython",
    "version": 3
   },
   "file_extension": ".py",
   "mimetype": "text/x-python",
   "name": "python",
   "nbconvert_exporter": "python",
   "pygments_lexer": "ipython3",
   "version": "3.9.12"
  }
 },
 "nbformat": 4,
 "nbformat_minor": 5
}

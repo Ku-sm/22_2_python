{
 "cells": [
  {
   "cell_type": "code",
   "execution_count": 84,
   "id": "3b9084bb",
   "metadata": {},
   "outputs": [],
   "source": [
    "str = \"hello world! we are glad to meet you!\"\n",
    "en_str = str.encode('utf-8')"
   ]
  },
  {
   "cell_type": "code",
   "execution_count": 85,
   "id": "1f3a940a",
   "metadata": {},
   "outputs": [
    {
     "name": "stdout",
     "output_type": "stream",
     "text": [
      "b'hello world! we are glad to meet you!'\n"
     ]
    }
   ],
   "source": [
    "print(en_str)\n",
    "hex_str = en_str.hex()"
   ]
  },
  {
   "cell_type": "code",
   "execution_count": 86,
   "id": "66cda230",
   "metadata": {},
   "outputs": [
    {
     "name": "stdout",
     "output_type": "stream",
     "text": [
      "68656c6c6f20776f726c64212077652061726520676c616420746f206d65657420796f7521\n"
     ]
    }
   ],
   "source": [
    "print(hex_str)"
   ]
  },
  {
   "cell_type": "code",
   "execution_count": 3,
   "id": "4c1ce098",
   "metadata": {},
   "outputs": [],
   "source": [
    "import os\n",
    "from matplotlib import pyplot as plt\n",
    "import numpy as np\n",
    "import math"
   ]
  },
  {
   "cell_type": "code",
   "execution_count": 7,
   "id": "be7c793f",
   "metadata": {},
   "outputs": [],
   "source": [
    "f = open('simple.txt','r')\n",
    "data = f.readlines()\n",
    "f.close()\n",
    "process = []\n",
    "\n",
    "data = data[1:]\n",
    "for i in range(len(data)):\n",
    "    data[i] = data[i].split()\n",
    "    data[i][1] = data[i][1].strip('\"\"').replace(',','.')\n",
    "    \n",
    "    #문자열을 수로 변환\n",
    "    data[i][0],data[i][1] = float(data[i][0]),float(data[i][1])\n",
    "    \n",
    "    process.append([data[i][0],data[i][1]])\n",
    "    \n",
    "# 훈련:테스트 = 0.7: 0.3\n",
    "percent = math.floor(len(process)*0.7)\n",
    "tr_data = process[:percent]\n",
    "ts_data = process[percent:]"
   ]
  },
  {
   "cell_type": "code",
   "execution_count": 16,
   "id": "f0ae2378",
   "metadata": {},
   "outputs": [],
   "source": [
    "# mean 함수는 수로 이루어진 리스트로 받는다\n",
    "def mean(data):\n",
    "    \n",
    "    sum_data = sum(data)\n",
    "    mean1 = sum_data/len(data)\n",
    "    \n",
    "    return mean1"
   ]
  },
  {
   "cell_type": "code",
   "execution_count": 17,
   "id": "1f1fc198",
   "metadata": {},
   "outputs": [],
   "source": [
    "def val(data):\n",
    "    mean2 = mean(data)\n",
    "    cal = 0\n",
    "    \n",
    "    for i in data:\n",
    "        cal += (i-mean2)**2\n",
    "\n",
    "    return cal"
   ]
  },
  {
   "cell_type": "code",
   "execution_count": 9,
   "id": "de61ad0e",
   "metadata": {},
   "outputs": [],
   "source": [
    "def sep(x,n):\n",
    "    x_list = []\n",
    "    y_list = []\n",
    "    \n",
    "    for item in x:\n",
    "        x_list.append(item[0])\n",
    "        y_list.append(item[1])\n",
    "        \n",
    "    if n==0:\n",
    "        return x_list\n",
    "    else:\n",
    "        return y_list"
   ]
  },
  {
   "cell_type": "code",
   "execution_count": 11,
   "id": "1279b81b",
   "metadata": {},
   "outputs": [],
   "source": [
    "def func_2(x):\n",
    "    count = 0.0\n",
    "    result_sum = 0.0\n",
    "    x_list = []\n",
    "    y_list = []\n",
    "    \n",
    "    for item in x:\n",
    "        x_list.append(item[0])\n",
    "        y_list.append(item[1])\n",
    "\n",
    "    x_mean = mean(x_list)\n",
    "    y_mean = mean(y_list)\n",
    "    \n",
    "    for i in range(len(x)):\n",
    "        result_sum += (y_list[i] - y_mean)*(x_list[i] - x_mean)\n",
    "    \n",
    "    return result_sum"
   ]
  },
  {
   "cell_type": "code",
   "execution_count": 12,
   "id": "cfc1b8b4",
   "metadata": {},
   "outputs": [],
   "source": [
    "def optimizer1(x):\n",
    "    x_list = []\n",
    "    for item in x:\n",
    "        x_list.append(item[0])\n",
    "        \n",
    "    val = func_val(x_list)\n",
    "    what = func_2(x)\n",
    "    \n",
    "    return what/val"
   ]
  },
  {
   "cell_type": "code",
   "execution_count": 13,
   "id": "52888788",
   "metadata": {
    "scrolled": true
   },
   "outputs": [
    {
     "ename": "NameError",
     "evalue": "name 'func_optimizer' is not defined",
     "output_type": "error",
     "traceback": [
      "\u001b[1;31m---------------------------------------------------------------------------\u001b[0m",
      "\u001b[1;31mNameError\u001b[0m                                 Traceback (most recent call last)",
      "Input \u001b[1;32mIn [13]\u001b[0m, in \u001b[0;36m<cell line: 1>\u001b[1;34m()\u001b[0m\n\u001b[1;32m----> 1\u001b[0m w1 \u001b[38;5;241m=\u001b[39m \u001b[43mfunc_optimizer\u001b[49m(tr_data)\n\u001b[0;32m      2\u001b[0m \u001b[38;5;28mprint\u001b[39m(w1)\n",
      "\u001b[1;31mNameError\u001b[0m: name 'func_optimizer' is not defined"
     ]
    }
   ],
   "source": []
  },
  {
   "cell_type": "code",
   "execution_count": 14,
   "id": "0464495e",
   "metadata": {},
   "outputs": [
    {
     "ename": "NameError",
     "evalue": "name 'new_data' is not defined",
     "output_type": "error",
     "traceback": [
      "\u001b[1;31m---------------------------------------------------------------------------\u001b[0m",
      "\u001b[1;31mNameError\u001b[0m                                 Traceback (most recent call last)",
      "Input \u001b[1;32mIn [14]\u001b[0m, in \u001b[0;36m<cell line: 1>\u001b[1;34m()\u001b[0m\n\u001b[1;32m----> 1\u001b[0m x_list\u001b[38;5;241m=\u001b[39m sep(\u001b[43mnew_data\u001b[49m,\u001b[38;5;241m0\u001b[39m)\n\u001b[0;32m      3\u001b[0m y_list \u001b[38;5;241m=\u001b[39m sep(new_data,\u001b[38;5;241m1\u001b[39m)\n\u001b[0;32m      5\u001b[0m x_m \u001b[38;5;241m=\u001b[39m mean(x_list)\n",
      "\u001b[1;31mNameError\u001b[0m: name 'new_data' is not defined"
     ]
    }
   ],
   "source": [
    "\n",
    "\n",
    "w2 = y_m - w1*x_m\n",
    "print(w2)"
   ]
  },
  {
   "cell_type": "code",
   "execution_count": 15,
   "id": "44c220c9",
   "metadata": {},
   "outputs": [
    {
     "ename": "NameError",
     "evalue": "name 'w1' is not defined",
     "output_type": "error",
     "traceback": [
      "\u001b[1;31m---------------------------------------------------------------------------\u001b[0m",
      "\u001b[1;31mNameError\u001b[0m                                 Traceback (most recent call last)",
      "Input \u001b[1;32mIn [15]\u001b[0m, in \u001b[0;36m<cell line: 2>\u001b[1;34m()\u001b[0m\n\u001b[0;32m      1\u001b[0m x \u001b[38;5;241m=\u001b[39m np\u001b[38;5;241m.\u001b[39marange(\u001b[38;5;241m0\u001b[39m,\u001b[38;5;241m120\u001b[39m, \u001b[38;5;241m0.1\u001b[39m)\n\u001b[1;32m----> 2\u001b[0m y \u001b[38;5;241m=\u001b[39m \u001b[43mw1\u001b[49m\u001b[38;5;241m*\u001b[39mx \u001b[38;5;241m+\u001b[39m w2\n\u001b[0;32m      3\u001b[0m plt\u001b[38;5;241m.\u001b[39mscatter(x_list,y_list)\n\u001b[0;32m      4\u001b[0m plt\u001b[38;5;241m.\u001b[39mplot(x,y)\n",
      "\u001b[1;31mNameError\u001b[0m: name 'w1' is not defined"
     ]
    }
   ],
   "source": [
    "x = np.arange(0,120, 0.1)\n",
    "y = w1*x + w2\n",
    "plt.scatter(x_list,y_list)\n",
    "plt.plot(x,y)\n",
    "plt.show()"
   ]
  },
  {
   "cell_type": "code",
   "execution_count": null,
   "id": "d79db097",
   "metadata": {},
   "outputs": [],
   "source": []
  }
 ],
 "metadata": {
  "kernelspec": {
   "display_name": "Python 3 (ipykernel)",
   "language": "python",
   "name": "python3"
  },
  "language_info": {
   "codemirror_mode": {
    "name": "ipython",
    "version": 3
   },
   "file_extension": ".py",
   "mimetype": "text/x-python",
   "name": "python",
   "nbconvert_exporter": "python",
   "pygments_lexer": "ipython3",
   "version": "3.9.12"
  }
 },
 "nbformat": 4,
 "nbformat_minor": 5
}

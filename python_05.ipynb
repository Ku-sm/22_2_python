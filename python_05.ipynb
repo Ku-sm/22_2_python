{
 "cells": [
  {
   "cell_type": "code",
   "execution_count": 81,
   "id": "5536a3c3",
   "metadata": {},
   "outputs": [],
   "source": [
    "dictionary = {} # Key : Value"
   ]
  },
  {
   "cell_type": "code",
   "execution_count": 82,
   "id": "c7c13b3b",
   "metadata": {},
   "outputs": [],
   "source": [
    "list = [] # 수정, 삽입, 삭제 가능"
   ]
  },
  {
   "cell_type": "code",
   "execution_count": 83,
   "id": "5bb38887",
   "metadata": {},
   "outputs": [],
   "source": [
    "tuple = () # 수정, 삽입, 삭제 불가능"
   ]
  },
  {
   "cell_type": "code",
   "execution_count": 84,
   "id": "d2d15dd2",
   "metadata": {},
   "outputs": [],
   "source": [
    "heros = ['스파이더맨','배트맨','호크아이','아이언맨','헐크','토르']"
   ]
  },
  {
   "cell_type": "code",
   "execution_count": 85,
   "id": "cfc42790",
   "metadata": {},
   "outputs": [
    {
     "data": {
      "text/plain": [
       "['스파이더맨', '호크아이', '아이언맨', '헐크', '토르', '비젼']"
      ]
     },
     "execution_count": 85,
     "metadata": {},
     "output_type": "execute_result"
    }
   ],
   "source": [
    "heros.append('비젼')\n",
    "heros.remove('배트맨')\n",
    "heros"
   ]
  },
  {
   "cell_type": "code",
   "execution_count": 86,
   "id": "e1efc71d",
   "metadata": {},
   "outputs": [
    {
     "name": "stdout",
     "output_type": "stream",
     "text": [
      "19\n"
     ]
    }
   ],
   "source": [
    "num = 0\n",
    "for hero in heros:\n",
    "    num += len(hero)\n",
    "print(num)"
   ]
  },
  {
   "cell_type": "code",
   "execution_count": 87,
   "id": "729c6a92",
   "metadata": {},
   "outputs": [],
   "source": [
    "dictionary[\"학생A\"] = ['이름','나이','학번','번호','키']"
   ]
  },
  {
   "cell_type": "code",
   "execution_count": 88,
   "id": "b9e5eada",
   "metadata": {},
   "outputs": [
    {
     "data": {
      "text/plain": [
       "['이름', '나이', '학번', '번호', '키']"
      ]
     },
     "execution_count": 88,
     "metadata": {},
     "output_type": "execute_result"
    }
   ],
   "source": [
    "dictionary['학생A']"
   ]
  },
  {
   "cell_type": "code",
   "execution_count": 89,
   "id": "9d0656e9",
   "metadata": {},
   "outputs": [
    {
     "data": {
      "text/plain": [
       "{7, 10}"
      ]
     },
     "execution_count": 89,
     "metadata": {},
     "output_type": "execute_result"
    }
   ],
   "source": [
    "set1 = {1,2,3,10,3,3,3,4,4,5,7,5,5,5}\n",
    "set2 = {1,2,3,4,5}\n",
    "set1-set2"
   ]
  },
  {
   "cell_type": "code",
   "execution_count": 90,
   "id": "dd392f71",
   "metadata": {},
   "outputs": [
    {
     "data": {
      "text/plain": [
       "13"
      ]
     },
     "execution_count": 90,
     "metadata": {},
     "output_type": "execute_result"
    }
   ],
   "source": [
    "def func(a,b):\n",
    "    return a+b\n",
    "\n",
    "func(10,3)"
   ]
  },
  {
   "cell_type": "code",
   "execution_count": 91,
   "id": "6fe15851",
   "metadata": {},
   "outputs": [
    {
     "name": "stdout",
     "output_type": "stream",
     "text": [
      "한국공학대학교\n",
      "산기대학로 237\n",
      "종합 교육관 415호\n"
     ]
    }
   ],
   "source": [
    "def address():\n",
    "    print('한국공학대학교')\n",
    "    print('산기대학로 237')\n",
    "    print('종합 교육관 415호')\n",
    "address()"
   ]
  },
  {
   "cell_type": "code",
   "execution_count": 92,
   "id": "eee1160b",
   "metadata": {},
   "outputs": [
    {
     "data": {
      "text/plain": [
       "10"
      ]
     },
     "execution_count": 92,
     "metadata": {},
     "output_type": "execute_result"
    }
   ],
   "source": [
    "def mul(num1,num2):\n",
    "    return num1*num2\n",
    "mul(2,5)"
   ]
  },
  {
   "cell_type": "code",
   "execution_count": 93,
   "id": "9b47a05e",
   "metadata": {},
   "outputs": [],
   "source": [
    "def print_star(n):\n",
    "    for i in range(n):\n",
    "        for k in range(n):\n",
    "            print(\"* \",end='')\n",
    "        print('')"
   ]
  },
  {
   "cell_type": "code",
   "execution_count": 94,
   "id": "1c15f530",
   "metadata": {},
   "outputs": [
    {
     "name": "stdout",
     "output_type": "stream",
     "text": [
      "* * * * * * * * * * \n",
      "* * * * * * * * * * \n",
      "* * * * * * * * * * \n",
      "* * * * * * * * * * \n",
      "* * * * * * * * * * \n",
      "* * * * * * * * * * \n",
      "* * * * * * * * * * \n",
      "* * * * * * * * * * \n",
      "* * * * * * * * * * \n",
      "* * * * * * * * * * \n"
     ]
    }
   ],
   "source": [
    "print_star(10)"
   ]
  },
  {
   "cell_type": "code",
   "execution_count": 95,
   "id": "4e664f30",
   "metadata": {},
   "outputs": [
    {
     "name": "stdout",
     "output_type": "stream",
     "text": [
      "1.61806,0.0001\n"
     ]
    }
   ],
   "source": [
    "import math\n",
    "\n",
    "def cal(n):\n",
    "    x = n**2 - n - 1\n",
    "    return x\n",
    "    \n",
    "def find_sol(num1, num2):\n",
    "    while(True):\n",
    "        if cal(num1) *cal(num2) >0:\n",
    "            print(\"해가 없습니다\")\n",
    "            break\n",
    "        else:\n",
    "            mid = (num1 +num2)/2\n",
    "        \n",
    "            if cal(num1)*cal(mid) <0:\n",
    "                num2 = mid\n",
    "                cal_mid = cal(num2)\n",
    "            else:\n",
    "                num1 = mid\n",
    "                cal_mid = (num1)\n",
    "                \n",
    "            if( cal_mid <0.0001):\n",
    "                return mid\n",
    "        \n",
    "result = find_sol(0, 3)\n",
    "cal_re = cal(result)\n",
    "\n",
    "print('{:.5f},{:.4f}'.format(result, cal_re))"
   ]
  },
  {
   "cell_type": "code",
   "execution_count": 96,
   "id": "e2bdf885",
   "metadata": {},
   "outputs": [
    {
     "name": "stdout",
     "output_type": "stream",
     "text": [
      "20,6\n"
     ]
    }
   ],
   "source": [
    "def triple_adder(a,b,c=10):\n",
    "    return a+b+c\n",
    "\n",
    "a = triple_adder(2,8)\n",
    "b = triple_adder(1,2,3)\n",
    "print(\"{},{}\".format(a,b))"
   ]
  },
  {
   "cell_type": "code",
   "execution_count": 98,
   "id": "5e6f52d6",
   "metadata": {},
   "outputs": [
    {
     "name": "stdout",
     "output_type": "stream",
     "text": [
      "(10, 2)\n"
     ]
    }
   ],
   "source": [
    "k =10\n",
    "def _add(a,b):\n",
    "    c = a+b\n",
    "    k=2\n",
    "    c = c*k\n",
    "    return c,k\n",
    "    \n",
    "d= _add(2,3)\n",
    "print(d)"
   ]
  },
  {
   "cell_type": "code",
   "execution_count": 102,
   "id": "8b65dfb2",
   "metadata": {},
   "outputs": [
    {
     "data": {
      "text/plain": [
       "40320"
      ]
     },
     "execution_count": 102,
     "metadata": {},
     "output_type": "execute_result"
    }
   ],
   "source": [
    "def factorial(n):\n",
    "    if(n==1):\n",
    "        return 1\n",
    "    else:\n",
    "        return n*factorial(n-1)\n",
    "factorial(8)"
   ]
  },
  {
   "cell_type": "code",
   "execution_count": 106,
   "id": "319cf909",
   "metadata": {},
   "outputs": [
    {
     "data": {
      "text/plain": [
       "89"
      ]
     },
     "execution_count": 106,
     "metadata": {},
     "output_type": "execute_result"
    }
   ],
   "source": [
    "def fibo(n):\n",
    "    if(n==0 or n==1):\n",
    "        return 1\n",
    "    else:\n",
    "        return fibo(n-1)+fibo(n-2)\n",
    "fibo(10)"
   ]
  },
  {
   "cell_type": "code",
   "execution_count": null,
   "id": "d6bf49e4",
   "metadata": {},
   "outputs": [],
   "source": []
  }
 ],
 "metadata": {
  "kernelspec": {
   "display_name": "Python 3 (ipykernel)",
   "language": "python",
   "name": "python3"
  },
  "language_info": {
   "codemirror_mode": {
    "name": "ipython",
    "version": 3
   },
   "file_extension": ".py",
   "mimetype": "text/x-python",
   "name": "python",
   "nbconvert_exporter": "python",
   "pygments_lexer": "ipython3",
   "version": "3.9.12"
  }
 },
 "nbformat": 4,
 "nbformat_minor": 5
}

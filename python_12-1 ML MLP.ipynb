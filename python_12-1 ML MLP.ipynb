{
 "cells": [
  {
   "cell_type": "code",
   "execution_count": 25,
   "id": "d6a32b7b",
   "metadata": {},
   "outputs": [],
   "source": [
    "import numpy as np\n",
    "import math"
   ]
  },
  {
   "cell_type": "code",
   "execution_count": 26,
   "id": "3533d4d8",
   "metadata": {},
   "outputs": [],
   "source": [
    "f = open('ToyotaCorolla (1).txt','r',encoding = 'utf-8')\n",
    "raw_data = f.readlines()\n",
    "f.close()"
   ]
  },
  {
   "cell_type": "code",
   "execution_count": 41,
   "id": "3a5b37a6",
   "metadata": {},
   "outputs": [],
   "source": [
    "r_data = raw_data[1:]\n",
    "data = []\n",
    "for i in range(len(r_data)):\n",
    "    r_data[i] = r_data[i].split()\n",
    "    for j in range(len(r_data[i])):\n",
    "        r_data[i][j] = float(r_data[i][j])\n",
    "    \n",
    "    data.append(r_data[i][1:])\n",
    "    \n",
    "#data"
   ]
  },
  {
   "cell_type": "code",
   "execution_count": 28,
   "id": "377d18d8",
   "metadata": {},
   "outputs": [],
   "source": [
    "rs = np.random.RandomState(100)\n",
    "arr = np.arange(len(data))\n",
    "rs.shuffle(arr)\n",
    "\n",
    "shuffled_data = []\n",
    "\n",
    "for i in  arr:\n",
    "    shuffled_data.append(data[i])\n",
    "\n",
    "#shuffled_data"
   ]
  },
  {
   "cell_type": "code",
   "execution_count": 29,
   "id": "c2fb1dda",
   "metadata": {},
   "outputs": [],
   "source": [
    "x_data = []\n",
    "y_data = []\n",
    "\n",
    "for i in range(len(shuffled_data)):\n",
    "    x_data.append(shuffled_data[i][1:])\n",
    "    y_data.append(shuffled_data[i][0])    "
   ]
  },
  {
   "cell_type": "code",
   "execution_count": 30,
   "id": "1471eb92",
   "metadata": {},
   "outputs": [],
   "source": [
    "length = math.ceil(len(shuffled_data)*0.7)\n",
    "\n",
    "tr_x = x_data[:length]\n",
    "ts_x = x_data[length:]\n",
    "\n",
    "tr_y = y_data[:length]\n",
    "ts_y = y_data[length:]"
   ]
  },
  {
   "cell_type": "code",
   "execution_count": 31,
   "id": "986fd293",
   "metadata": {},
   "outputs": [],
   "source": [
    "#numpy 배열로 변환\n",
    "tr_x = np.array(tr_x)\n",
    "ts_x = np.array(ts_x)\n",
    "\n",
    "tr_y = np.array(tr_y)\n",
    "ts_y = np.array(ts_y)"
   ]
  },
  {
   "cell_type": "code",
   "execution_count": 32,
   "id": "37676bc1",
   "metadata": {},
   "outputs": [],
   "source": [
    "t_tr_x = np.transpose(tr_x)"
   ]
  },
  {
   "cell_type": "code",
   "execution_count": 33,
   "id": "113b1508",
   "metadata": {},
   "outputs": [],
   "source": [
    "mul_tr = np.dot(t_tr_x , tr_x)\n",
    "re_tr = np.linalg.inv(mul_tr)"
   ]
  },
  {
   "cell_type": "code",
   "execution_count": 34,
   "id": "ef4cb3a4",
   "metadata": {},
   "outputs": [],
   "source": [
    "w_hat = np.dot(np.dot(re_tr , t_tr_x),tr_y)"
   ]
  },
  {
   "cell_type": "code",
   "execution_count": 35,
   "id": "f94168f2",
   "metadata": {},
   "outputs": [],
   "source": [
    "y_predict = np.dot(ts_x , w_hat)"
   ]
  },
  {
   "cell_type": "code",
   "execution_count": 36,
   "id": "21e35e15",
   "metadata": {},
   "outputs": [],
   "source": [
    "y_sub = ts_y - y_predict"
   ]
  },
  {
   "cell_type": "code",
   "execution_count": 37,
   "id": "1ae7d7af",
   "metadata": {},
   "outputs": [],
   "source": [
    "ts_y_len = len(y_sub)"
   ]
  },
  {
   "cell_type": "code",
   "execution_count": 38,
   "id": "97ff8997",
   "metadata": {},
   "outputs": [
    {
     "name": "stdout",
     "output_type": "stream",
     "text": [
      "2319356.177636233\n"
     ]
    }
   ],
   "source": [
    "total = 0\n",
    "for i in range(ts_y_len):\n",
    "    total += (y_sub[i]**2)\n",
    "mse = total / ts_y_len\n",
    "print(mse)"
   ]
  },
  {
   "cell_type": "code",
   "execution_count": 39,
   "id": "9d8c55b0",
   "metadata": {},
   "outputs": [
    {
     "name": "stdout",
     "output_type": "stream",
     "text": [
      "194.8477980910989\n"
     ]
    }
   ],
   "source": [
    "total = 0\n",
    "for i in range(ts_y_len):\n",
    "    total += (y_sub[i]**2)/ abs(ts_y[i])\n",
    "mape = total / ts_y_len\n",
    "print(mape)"
   ]
  }
 ],
 "metadata": {
  "kernelspec": {
   "display_name": "Python 3 (ipykernel)",
   "language": "python",
   "name": "python3"
  },
  "language_info": {
   "codemirror_mode": {
    "name": "ipython",
    "version": 3
   },
   "file_extension": ".py",
   "mimetype": "text/x-python",
   "name": "python",
   "nbconvert_exporter": "python",
   "pygments_lexer": "ipython3",
   "version": "3.9.12"
  }
 },
 "nbformat": 4,
 "nbformat_minor": 5
}
